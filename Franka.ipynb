{
  "nbformat": 4,
  "nbformat_minor": 0,
  "metadata": {
    "colab": {
      "provenance": []
    },
    "kernelspec": {
      "name": "python3",
      "display_name": "Python 3"
    },
    "language_info": {
      "name": "python"
    }
  },
  "cells": [
    {
      "cell_type": "code",
      "execution_count": 35,
      "metadata": {
        "id": "6IBALDjI2Xie"
      },
      "outputs": [],
      "source": [
        "from sklearn.model_selection import train_test_split\n",
        "from tensorflow import keras\n",
        "from tensorflow.keras.layers import Dense\n",
        "from tensorflow.keras.layers import InputLayer\n",
        "from tensorflow.keras.models import Model\n",
        "import matplotlib.pyplot as plt\n",
        "import numpy as np\n",
        "import pandas as pd"
      ]
    },
    {
      "cell_type": "code",
      "source": [
        "from google.colab import files\n",
        "\n",
        "uploaded = files.upload()\n",
        "\n",
        "for fn in uploaded.keys():\n",
        "  print('User uploaded file \"{name}\" with length {length} bytes'.format(\n",
        "      name=fn, length=len(uploaded[fn])))"
      ],
      "metadata": {
        "id": "e_ahxIBB348d",
        "colab": {
          "base_uri": "https://localhost:8080/",
          "height": 95
        },
        "outputId": "481784ef-efd5-4820-8b2f-9a9f5e5b855d"
      },
      "execution_count": 2,
      "outputs": [
        {
          "output_type": "display_data",
          "data": {
            "text/plain": [
              "<IPython.core.display.HTML object>"
            ],
            "text/html": [
              "\n",
              "     <input type=\"file\" id=\"files-6e3f0610-fe6d-4a6c-8062-aa6e62d13cf8\" name=\"files[]\" multiple disabled\n",
              "        style=\"border:none\" />\n",
              "     <output id=\"result-6e3f0610-fe6d-4a6c-8062-aa6e62d13cf8\">\n",
              "      Upload widget is only available when the cell has been executed in the\n",
              "      current browser session. Please rerun this cell to enable.\n",
              "      </output>\n",
              "      <script>// Copyright 2017 Google LLC\n",
              "//\n",
              "// Licensed under the Apache License, Version 2.0 (the \"License\");\n",
              "// you may not use this file except in compliance with the License.\n",
              "// You may obtain a copy of the License at\n",
              "//\n",
              "//      http://www.apache.org/licenses/LICENSE-2.0\n",
              "//\n",
              "// Unless required by applicable law or agreed to in writing, software\n",
              "// distributed under the License is distributed on an \"AS IS\" BASIS,\n",
              "// WITHOUT WARRANTIES OR CONDITIONS OF ANY KIND, either express or implied.\n",
              "// See the License for the specific language governing permissions and\n",
              "// limitations under the License.\n",
              "\n",
              "/**\n",
              " * @fileoverview Helpers for google.colab Python module.\n",
              " */\n",
              "(function(scope) {\n",
              "function span(text, styleAttributes = {}) {\n",
              "  const element = document.createElement('span');\n",
              "  element.textContent = text;\n",
              "  for (const key of Object.keys(styleAttributes)) {\n",
              "    element.style[key] = styleAttributes[key];\n",
              "  }\n",
              "  return element;\n",
              "}\n",
              "\n",
              "// Max number of bytes which will be uploaded at a time.\n",
              "const MAX_PAYLOAD_SIZE = 100 * 1024;\n",
              "\n",
              "function _uploadFiles(inputId, outputId) {\n",
              "  const steps = uploadFilesStep(inputId, outputId);\n",
              "  const outputElement = document.getElementById(outputId);\n",
              "  // Cache steps on the outputElement to make it available for the next call\n",
              "  // to uploadFilesContinue from Python.\n",
              "  outputElement.steps = steps;\n",
              "\n",
              "  return _uploadFilesContinue(outputId);\n",
              "}\n",
              "\n",
              "// This is roughly an async generator (not supported in the browser yet),\n",
              "// where there are multiple asynchronous steps and the Python side is going\n",
              "// to poll for completion of each step.\n",
              "// This uses a Promise to block the python side on completion of each step,\n",
              "// then passes the result of the previous step as the input to the next step.\n",
              "function _uploadFilesContinue(outputId) {\n",
              "  const outputElement = document.getElementById(outputId);\n",
              "  const steps = outputElement.steps;\n",
              "\n",
              "  const next = steps.next(outputElement.lastPromiseValue);\n",
              "  return Promise.resolve(next.value.promise).then((value) => {\n",
              "    // Cache the last promise value to make it available to the next\n",
              "    // step of the generator.\n",
              "    outputElement.lastPromiseValue = value;\n",
              "    return next.value.response;\n",
              "  });\n",
              "}\n",
              "\n",
              "/**\n",
              " * Generator function which is called between each async step of the upload\n",
              " * process.\n",
              " * @param {string} inputId Element ID of the input file picker element.\n",
              " * @param {string} outputId Element ID of the output display.\n",
              " * @return {!Iterable<!Object>} Iterable of next steps.\n",
              " */\n",
              "function* uploadFilesStep(inputId, outputId) {\n",
              "  const inputElement = document.getElementById(inputId);\n",
              "  inputElement.disabled = false;\n",
              "\n",
              "  const outputElement = document.getElementById(outputId);\n",
              "  outputElement.innerHTML = '';\n",
              "\n",
              "  const pickedPromise = new Promise((resolve) => {\n",
              "    inputElement.addEventListener('change', (e) => {\n",
              "      resolve(e.target.files);\n",
              "    });\n",
              "  });\n",
              "\n",
              "  const cancel = document.createElement('button');\n",
              "  inputElement.parentElement.appendChild(cancel);\n",
              "  cancel.textContent = 'Cancel upload';\n",
              "  const cancelPromise = new Promise((resolve) => {\n",
              "    cancel.onclick = () => {\n",
              "      resolve(null);\n",
              "    };\n",
              "  });\n",
              "\n",
              "  // Wait for the user to pick the files.\n",
              "  const files = yield {\n",
              "    promise: Promise.race([pickedPromise, cancelPromise]),\n",
              "    response: {\n",
              "      action: 'starting',\n",
              "    }\n",
              "  };\n",
              "\n",
              "  cancel.remove();\n",
              "\n",
              "  // Disable the input element since further picks are not allowed.\n",
              "  inputElement.disabled = true;\n",
              "\n",
              "  if (!files) {\n",
              "    return {\n",
              "      response: {\n",
              "        action: 'complete',\n",
              "      }\n",
              "    };\n",
              "  }\n",
              "\n",
              "  for (const file of files) {\n",
              "    const li = document.createElement('li');\n",
              "    li.append(span(file.name, {fontWeight: 'bold'}));\n",
              "    li.append(span(\n",
              "        `(${file.type || 'n/a'}) - ${file.size} bytes, ` +\n",
              "        `last modified: ${\n",
              "            file.lastModifiedDate ? file.lastModifiedDate.toLocaleDateString() :\n",
              "                                    'n/a'} - `));\n",
              "    const percent = span('0% done');\n",
              "    li.appendChild(percent);\n",
              "\n",
              "    outputElement.appendChild(li);\n",
              "\n",
              "    const fileDataPromise = new Promise((resolve) => {\n",
              "      const reader = new FileReader();\n",
              "      reader.onload = (e) => {\n",
              "        resolve(e.target.result);\n",
              "      };\n",
              "      reader.readAsArrayBuffer(file);\n",
              "    });\n",
              "    // Wait for the data to be ready.\n",
              "    let fileData = yield {\n",
              "      promise: fileDataPromise,\n",
              "      response: {\n",
              "        action: 'continue',\n",
              "      }\n",
              "    };\n",
              "\n",
              "    // Use a chunked sending to avoid message size limits. See b/62115660.\n",
              "    let position = 0;\n",
              "    do {\n",
              "      const length = Math.min(fileData.byteLength - position, MAX_PAYLOAD_SIZE);\n",
              "      const chunk = new Uint8Array(fileData, position, length);\n",
              "      position += length;\n",
              "\n",
              "      const base64 = btoa(String.fromCharCode.apply(null, chunk));\n",
              "      yield {\n",
              "        response: {\n",
              "          action: 'append',\n",
              "          file: file.name,\n",
              "          data: base64,\n",
              "        },\n",
              "      };\n",
              "\n",
              "      let percentDone = fileData.byteLength === 0 ?\n",
              "          100 :\n",
              "          Math.round((position / fileData.byteLength) * 100);\n",
              "      percent.textContent = `${percentDone}% done`;\n",
              "\n",
              "    } while (position < fileData.byteLength);\n",
              "  }\n",
              "\n",
              "  // All done.\n",
              "  yield {\n",
              "    response: {\n",
              "      action: 'complete',\n",
              "    }\n",
              "  };\n",
              "}\n",
              "\n",
              "scope.google = scope.google || {};\n",
              "scope.google.colab = scope.google.colab || {};\n",
              "scope.google.colab._files = {\n",
              "  _uploadFiles,\n",
              "  _uploadFilesContinue,\n",
              "};\n",
              "})(self);\n",
              "</script> "
            ]
          },
          "metadata": {}
        },
        {
          "output_type": "stream",
          "name": "stdout",
          "text": [
            "Saving X_TWO_JOINTS.csv to X_TWO_JOINTS.csv\n",
            "User uploaded file \"X_TWO_JOINTS.csv\" with length 1527798 bytes\n"
          ]
        }
      ]
    },
    {
      "cell_type": "code",
      "source": [
        "def plot_loss(history):\n",
        "  plt.plot(history.history['loss'], label='loss')\n",
        "  # plt.plot(history.history['val_loss'], label='val_loss')\n",
        "  # plt.ylim([0, 10])\n",
        "  plt.xlabel('Epoch')\n",
        "  plt.ylabel('Error [MPG]')\n",
        "  plt.legend()\n",
        "  plt.grid(True)\n"
      ],
      "metadata": {
        "id": "nGps_qZjQsn4"
      },
      "execution_count": 59,
      "outputs": []
    },
    {
      "cell_type": "code",
      "source": [
        "df_X = pd.read_csv('X_TWO_JOINTS.csv', header= None, usecols=[0,2], names=[\"X\",\"Z\"])\n",
        "df_Y = pd.read_csv('Y_TWO_JOINTS.csv', header= None, names=[\"J1\",\"J3\"])\n",
        "df_data = df_X.join(df_Y)\n",
        "print(df_data)"
      ],
      "metadata": {
        "colab": {
          "base_uri": "https://localhost:8080/"
        },
        "id": "IRcQDSmEJepG",
        "outputId": "1d0e64bc-63e1-42ff-9c97-6bf883501269"
      },
      "execution_count": 11,
      "outputs": [
        {
          "output_type": "stream",
          "name": "stdout",
          "text": [
            "             X         Z         J1          J3\n",
            "0     0.182892  1.103669  -2.659524  -16.910634\n",
            "1    -0.018991  0.840641 -78.769963 -115.164880\n",
            "2    -0.786893  0.568495 -91.302315  -18.153684\n",
            "3     0.350853  0.842898 -24.786045  -88.304229\n",
            "4     0.014872  1.059766 -41.132881  -61.260355\n",
            "...        ...       ...        ...         ...\n",
            "9995  0.636020  0.261123  40.104177  -80.381565\n",
            "9996  0.637171  0.307646  35.712157  -80.978438\n",
            "9997  0.210339  1.076435 -12.282699  -37.298402\n",
            "9998 -0.560832  0.924573 -54.132491   -7.120594\n",
            "9999  0.235456  0.049541  40.037619 -137.748416\n",
            "\n",
            "[10000 rows x 4 columns]\n"
          ]
        }
      ]
    },
    {
      "cell_type": "code",
      "source": [
        "train, test = train_test_split(df_data,test_size=0.3)\n",
        "X_train , X_test = train[[\"X\", \"Z\"]], test[[\"X\", \"Z\"]]\n",
        "Y_train , Y_test = train[[\"J1\", \"J3\"]], test[[\"J1\", \"J3\"]]\n",
        "print(Y_train)"
      ],
      "metadata": {
        "colab": {
          "base_uri": "https://localhost:8080/"
        },
        "id": "GZ7Zc13mKsgv",
        "outputId": "e8ac8e41-83f4-43f1-c4e3-a41c0f61c23e"
      },
      "execution_count": 17,
      "outputs": [
        {
          "output_type": "stream",
          "name": "stdout",
          "text": [
            "             J1          J3\n",
            "7494  -4.750835 -105.984150\n",
            "1376  17.243152 -110.098798\n",
            "3052 -48.953049  -11.221643\n",
            "9113  33.002814 -167.536935\n",
            "9298 -20.899658  -96.581514\n",
            "...         ...         ...\n",
            "3261 -69.367140  -35.926955\n",
            "6915  31.319262  -29.541602\n",
            "5410 -10.345217  -46.102396\n",
            "7083 -23.234650 -153.990298\n",
            "3430 -50.416060 -112.560391\n",
            "\n",
            "[7000 rows x 2 columns]\n"
          ]
        }
      ]
    },
    {
      "cell_type": "code",
      "source": [
        "activation = 'sigmoid'\n",
        "learning_rate = 0.001\n",
        "loss = 'mean_absolute_error'\n",
        "n_hidden_neurons = 64\n",
        "epochs = 100"
      ],
      "metadata": {
        "id": "SuknnHq4O9VO"
      },
      "execution_count": 32,
      "outputs": []
    },
    {
      "cell_type": "code",
      "source": [
        "X_train.shape"
      ],
      "metadata": {
        "colab": {
          "base_uri": "https://localhost:8080/"
        },
        "id": "2GzCxQ2pRXIh",
        "outputId": "65e85fd6-930c-43bd-edde-57f4d6049aa1"
      },
      "execution_count": 34,
      "outputs": [
        {
          "output_type": "execute_result",
          "data": {
            "text/plain": [
              "(7000, 2)"
            ]
          },
          "metadata": {},
          "execution_count": 34
        }
      ]
    },
    {
      "cell_type": "code",
      "source": [
        "model_inverse = keras.Sequential([\n",
        "    InputLayer(input_shape=(X_train.shape[1])),\n",
        "    Dense(n_hidden_neurons, activation=activation),\n",
        "    Dense(n_hidden_neurons, activation=activation),\n",
        "    Dense(2)\n",
        "], name=\"model_inverse_2joints_64hl\")\n",
        "\n",
        "model_inverse.compile(loss=loss,\n",
        "              optimizer=keras.optimizers.Adam(learning_rate))\n"
      ],
      "metadata": {
        "id": "GVouY7cyNYwq"
      },
      "execution_count": 66,
      "outputs": []
    },
    {
      "cell_type": "code",
      "source": [
        "model_inverse.summary()"
      ],
      "metadata": {
        "colab": {
          "base_uri": "https://localhost:8080/"
        },
        "id": "gTpRy2q2MLSe",
        "outputId": "7bcd7271-efb4-4346-f88e-567700154b66"
      },
      "execution_count": 67,
      "outputs": [
        {
          "output_type": "stream",
          "name": "stdout",
          "text": [
            "Model: \"model_inverse_2joints_64hl\"\n",
            "_________________________________________________________________\n",
            " Layer (type)                Output Shape              Param #   \n",
            "=================================================================\n",
            " dense_30 (Dense)            (None, 64)                192       \n",
            "                                                                 \n",
            " dense_31 (Dense)            (None, 64)                4160      \n",
            "                                                                 \n",
            " dense_32 (Dense)            (None, 2)                 130       \n",
            "                                                                 \n",
            "=================================================================\n",
            "Total params: 4,482\n",
            "Trainable params: 4,482\n",
            "Non-trainable params: 0\n",
            "_________________________________________________________________\n"
          ]
        }
      ]
    },
    {
      "cell_type": "code",
      "source": [
        "history = model_inverse.fit(\n",
        "    X_train,\n",
        "    Y_train,\n",
        "    epochs=epochs\n",
        ")"
      ],
      "metadata": {
        "colab": {
          "base_uri": "https://localhost:8080/"
        },
        "id": "HfpuCeVWOo6g",
        "outputId": "1aecfc9f-a2e2-4ef3-abcd-90c752481329"
      },
      "execution_count": 68,
      "outputs": [
        {
          "output_type": "stream",
          "name": "stdout",
          "text": [
            "Epoch 1/100\n",
            "219/219 [==============================] - 1s 2ms/step - loss: 62.6209\n",
            "Epoch 2/100\n",
            "219/219 [==============================] - 0s 2ms/step - loss: 56.4622\n",
            "Epoch 3/100\n",
            "219/219 [==============================] - 0s 2ms/step - loss: 51.7645\n",
            "Epoch 4/100\n",
            "219/219 [==============================] - 0s 2ms/step - loss: 48.5385\n",
            "Epoch 5/100\n",
            "219/219 [==============================] - 0s 2ms/step - loss: 46.1186\n",
            "Epoch 6/100\n",
            "219/219 [==============================] - 0s 2ms/step - loss: 44.3951\n",
            "Epoch 7/100\n",
            "219/219 [==============================] - 0s 2ms/step - loss: 43.1621\n",
            "Epoch 8/100\n",
            "219/219 [==============================] - 0s 2ms/step - loss: 42.2666\n",
            "Epoch 9/100\n",
            "219/219 [==============================] - 0s 2ms/step - loss: 41.6051\n",
            "Epoch 10/100\n",
            "219/219 [==============================] - 1s 3ms/step - loss: 41.2153\n",
            "Epoch 11/100\n",
            "219/219 [==============================] - 1s 3ms/step - loss: 41.0124\n",
            "Epoch 12/100\n",
            "219/219 [==============================] - 1s 3ms/step - loss: 40.9062\n",
            "Epoch 13/100\n",
            "219/219 [==============================] - 1s 3ms/step - loss: 40.8516\n",
            "Epoch 14/100\n",
            "219/219 [==============================] - 1s 3ms/step - loss: 40.4881\n",
            "Epoch 15/100\n",
            "219/219 [==============================] - 0s 2ms/step - loss: 37.4028\n",
            "Epoch 16/100\n",
            "219/219 [==============================] - 0s 2ms/step - loss: 35.2244\n",
            "Epoch 17/100\n",
            "219/219 [==============================] - 0s 2ms/step - loss: 33.6781\n",
            "Epoch 18/100\n",
            "219/219 [==============================] - 0s 2ms/step - loss: 32.4780\n",
            "Epoch 19/100\n",
            "219/219 [==============================] - 0s 2ms/step - loss: 31.5049\n",
            "Epoch 20/100\n",
            "219/219 [==============================] - 0s 2ms/step - loss: 30.6993\n",
            "Epoch 21/100\n",
            "219/219 [==============================] - 0s 2ms/step - loss: 30.0355\n",
            "Epoch 22/100\n",
            "219/219 [==============================] - 0s 2ms/step - loss: 29.4736\n",
            "Epoch 23/100\n",
            "219/219 [==============================] - 0s 2ms/step - loss: 29.0101\n",
            "Epoch 24/100\n",
            "219/219 [==============================] - 0s 2ms/step - loss: 28.6334\n",
            "Epoch 25/100\n",
            "219/219 [==============================] - 0s 2ms/step - loss: 28.3071\n",
            "Epoch 26/100\n",
            "219/219 [==============================] - 0s 2ms/step - loss: 28.0335\n",
            "Epoch 27/100\n",
            "219/219 [==============================] - 0s 2ms/step - loss: 27.8053\n",
            "Epoch 28/100\n",
            "219/219 [==============================] - 0s 2ms/step - loss: 27.6223\n",
            "Epoch 29/100\n",
            "219/219 [==============================] - 0s 2ms/step - loss: 27.4627\n",
            "Epoch 30/100\n",
            "219/219 [==============================] - 0s 2ms/step - loss: 27.3217\n",
            "Epoch 31/100\n",
            "219/219 [==============================] - 0s 2ms/step - loss: 27.1872\n",
            "Epoch 32/100\n",
            "219/219 [==============================] - 0s 2ms/step - loss: 27.0149\n",
            "Epoch 33/100\n",
            "219/219 [==============================] - 0s 2ms/step - loss: 26.7644\n",
            "Epoch 34/100\n",
            "219/219 [==============================] - 0s 2ms/step - loss: 26.4150\n",
            "Epoch 35/100\n",
            "219/219 [==============================] - 0s 2ms/step - loss: 25.9868\n",
            "Epoch 36/100\n",
            "219/219 [==============================] - 0s 2ms/step - loss: 25.4543\n",
            "Epoch 37/100\n",
            "219/219 [==============================] - 0s 2ms/step - loss: 24.8348\n",
            "Epoch 38/100\n",
            "219/219 [==============================] - 0s 2ms/step - loss: 24.0353\n",
            "Epoch 39/100\n",
            "219/219 [==============================] - 1s 3ms/step - loss: 23.1423\n",
            "Epoch 40/100\n",
            "219/219 [==============================] - 1s 3ms/step - loss: 21.9301\n",
            "Epoch 41/100\n",
            "219/219 [==============================] - 1s 3ms/step - loss: 20.7623\n",
            "Epoch 42/100\n",
            "219/219 [==============================] - 1s 3ms/step - loss: 19.8126\n",
            "Epoch 43/100\n",
            "219/219 [==============================] - 1s 3ms/step - loss: 18.9356\n",
            "Epoch 44/100\n",
            "219/219 [==============================] - 0s 2ms/step - loss: 18.1948\n",
            "Epoch 45/100\n",
            "219/219 [==============================] - 0s 2ms/step - loss: 17.6606\n",
            "Epoch 46/100\n",
            "219/219 [==============================] - 0s 2ms/step - loss: 17.2418\n",
            "Epoch 47/100\n",
            "219/219 [==============================] - 0s 2ms/step - loss: 16.8641\n",
            "Epoch 48/100\n",
            "219/219 [==============================] - 0s 2ms/step - loss: 16.4943\n",
            "Epoch 49/100\n",
            "219/219 [==============================] - 0s 2ms/step - loss: 16.1544\n",
            "Epoch 50/100\n",
            "219/219 [==============================] - 0s 2ms/step - loss: 15.7917\n",
            "Epoch 51/100\n",
            "219/219 [==============================] - 0s 2ms/step - loss: 15.4474\n",
            "Epoch 52/100\n",
            "219/219 [==============================] - 0s 2ms/step - loss: 15.0943\n",
            "Epoch 53/100\n",
            "219/219 [==============================] - 0s 2ms/step - loss: 14.7296\n",
            "Epoch 54/100\n",
            "219/219 [==============================] - 0s 2ms/step - loss: 14.3724\n",
            "Epoch 55/100\n",
            "219/219 [==============================] - 0s 2ms/step - loss: 13.9768\n",
            "Epoch 56/100\n",
            "219/219 [==============================] - 0s 2ms/step - loss: 13.6120\n",
            "Epoch 57/100\n",
            "219/219 [==============================] - 0s 2ms/step - loss: 13.2109\n",
            "Epoch 58/100\n",
            "219/219 [==============================] - 0s 2ms/step - loss: 12.8226\n",
            "Epoch 59/100\n",
            "219/219 [==============================] - 0s 2ms/step - loss: 12.4381\n",
            "Epoch 60/100\n",
            "219/219 [==============================] - 0s 2ms/step - loss: 12.0319\n",
            "Epoch 61/100\n",
            "219/219 [==============================] - 0s 2ms/step - loss: 11.6468\n",
            "Epoch 62/100\n",
            "219/219 [==============================] - 0s 2ms/step - loss: 11.2602\n",
            "Epoch 63/100\n",
            "219/219 [==============================] - 0s 2ms/step - loss: 10.9115\n",
            "Epoch 64/100\n",
            "219/219 [==============================] - 0s 2ms/step - loss: 10.5279\n",
            "Epoch 65/100\n",
            "219/219 [==============================] - 0s 2ms/step - loss: 10.1734\n",
            "Epoch 66/100\n",
            "219/219 [==============================] - 0s 2ms/step - loss: 9.8419\n",
            "Epoch 67/100\n",
            "219/219 [==============================] - 0s 2ms/step - loss: 9.4886\n",
            "Epoch 68/100\n",
            "219/219 [==============================] - 1s 3ms/step - loss: 9.1618\n",
            "Epoch 69/100\n",
            "219/219 [==============================] - 1s 3ms/step - loss: 8.8590\n",
            "Epoch 70/100\n",
            "219/219 [==============================] - 1s 3ms/step - loss: 8.5843\n",
            "Epoch 71/100\n",
            "219/219 [==============================] - 1s 3ms/step - loss: 8.3172\n",
            "Epoch 72/100\n",
            "219/219 [==============================] - 1s 3ms/step - loss: 8.0832\n",
            "Epoch 73/100\n",
            "219/219 [==============================] - 0s 2ms/step - loss: 7.8454\n",
            "Epoch 74/100\n",
            "219/219 [==============================] - 0s 2ms/step - loss: 7.6360\n",
            "Epoch 75/100\n",
            "219/219 [==============================] - 0s 2ms/step - loss: 7.4424\n",
            "Epoch 76/100\n",
            "219/219 [==============================] - 0s 2ms/step - loss: 7.2605\n",
            "Epoch 77/100\n",
            "219/219 [==============================] - 1s 4ms/step - loss: 7.0721\n",
            "Epoch 78/100\n",
            "219/219 [==============================] - 1s 2ms/step - loss: 6.9016\n",
            "Epoch 79/100\n",
            "219/219 [==============================] - 1s 3ms/step - loss: 6.7286\n",
            "Epoch 80/100\n",
            "219/219 [==============================] - 1s 3ms/step - loss: 6.5808\n",
            "Epoch 81/100\n",
            "219/219 [==============================] - 0s 2ms/step - loss: 6.4189\n",
            "Epoch 82/100\n",
            "219/219 [==============================] - 0s 2ms/step - loss: 6.2775\n",
            "Epoch 83/100\n",
            "219/219 [==============================] - 0s 2ms/step - loss: 6.1412\n",
            "Epoch 84/100\n",
            "219/219 [==============================] - 0s 2ms/step - loss: 5.9974\n",
            "Epoch 85/100\n",
            "219/219 [==============================] - 0s 2ms/step - loss: 5.8831\n",
            "Epoch 86/100\n",
            "219/219 [==============================] - 0s 2ms/step - loss: 5.7698\n",
            "Epoch 87/100\n",
            "219/219 [==============================] - 0s 2ms/step - loss: 5.6539\n",
            "Epoch 88/100\n",
            "219/219 [==============================] - 0s 2ms/step - loss: 5.5458\n",
            "Epoch 89/100\n",
            "219/219 [==============================] - 0s 2ms/step - loss: 5.4362\n",
            "Epoch 90/100\n",
            "219/219 [==============================] - 0s 2ms/step - loss: 5.3373\n",
            "Epoch 91/100\n",
            "219/219 [==============================] - 0s 2ms/step - loss: 5.2437\n",
            "Epoch 92/100\n",
            "219/219 [==============================] - 0s 2ms/step - loss: 5.1750\n",
            "Epoch 93/100\n",
            "219/219 [==============================] - 0s 2ms/step - loss: 5.0660\n",
            "Epoch 94/100\n",
            "219/219 [==============================] - 0s 2ms/step - loss: 4.9748\n",
            "Epoch 95/100\n",
            "219/219 [==============================] - 1s 3ms/step - loss: 4.8888\n",
            "Epoch 96/100\n",
            "219/219 [==============================] - 1s 2ms/step - loss: 4.8041\n",
            "Epoch 97/100\n",
            "219/219 [==============================] - 1s 3ms/step - loss: 4.7300\n",
            "Epoch 98/100\n",
            "219/219 [==============================] - 1s 3ms/step - loss: 4.6516\n",
            "Epoch 99/100\n",
            "219/219 [==============================] - 1s 3ms/step - loss: 4.5704\n",
            "Epoch 100/100\n",
            "219/219 [==============================] - 0s 2ms/step - loss: 4.4751\n"
          ]
        }
      ]
    },
    {
      "cell_type": "code",
      "source": [
        "hist = pd.DataFrame(history.history)\n",
        "hist['epoch'] = history.epoch\n",
        "hist.tail()"
      ],
      "metadata": {
        "colab": {
          "base_uri": "https://localhost:8080/",
          "height": 206
        },
        "id": "ANb071GIQeYW",
        "outputId": "23b0832f-f0b4-4fba-94c3-ebaedb6743ac"
      },
      "execution_count": 51,
      "outputs": [
        {
          "output_type": "execute_result",
          "data": {
            "text/plain": [
              "        loss  epoch\n",
              "95  3.817923     95\n",
              "96  3.757266     96\n",
              "97  3.684101     97\n",
              "98  3.623738     98\n",
              "99  3.568358     99"
            ],
            "text/html": [
              "\n",
              "  <div id=\"df-ca5259bb-4b75-4f4b-aa53-2c37c5c1420e\">\n",
              "    <div class=\"colab-df-container\">\n",
              "      <div>\n",
              "<style scoped>\n",
              "    .dataframe tbody tr th:only-of-type {\n",
              "        vertical-align: middle;\n",
              "    }\n",
              "\n",
              "    .dataframe tbody tr th {\n",
              "        vertical-align: top;\n",
              "    }\n",
              "\n",
              "    .dataframe thead th {\n",
              "        text-align: right;\n",
              "    }\n",
              "</style>\n",
              "<table border=\"1\" class=\"dataframe\">\n",
              "  <thead>\n",
              "    <tr style=\"text-align: right;\">\n",
              "      <th></th>\n",
              "      <th>loss</th>\n",
              "      <th>epoch</th>\n",
              "    </tr>\n",
              "  </thead>\n",
              "  <tbody>\n",
              "    <tr>\n",
              "      <th>95</th>\n",
              "      <td>3.817923</td>\n",
              "      <td>95</td>\n",
              "    </tr>\n",
              "    <tr>\n",
              "      <th>96</th>\n",
              "      <td>3.757266</td>\n",
              "      <td>96</td>\n",
              "    </tr>\n",
              "    <tr>\n",
              "      <th>97</th>\n",
              "      <td>3.684101</td>\n",
              "      <td>97</td>\n",
              "    </tr>\n",
              "    <tr>\n",
              "      <th>98</th>\n",
              "      <td>3.623738</td>\n",
              "      <td>98</td>\n",
              "    </tr>\n",
              "    <tr>\n",
              "      <th>99</th>\n",
              "      <td>3.568358</td>\n",
              "      <td>99</td>\n",
              "    </tr>\n",
              "  </tbody>\n",
              "</table>\n",
              "</div>\n",
              "      <button class=\"colab-df-convert\" onclick=\"convertToInteractive('df-ca5259bb-4b75-4f4b-aa53-2c37c5c1420e')\"\n",
              "              title=\"Convert this dataframe to an interactive table.\"\n",
              "              style=\"display:none;\">\n",
              "        \n",
              "  <svg xmlns=\"http://www.w3.org/2000/svg\" height=\"24px\"viewBox=\"0 0 24 24\"\n",
              "       width=\"24px\">\n",
              "    <path d=\"M0 0h24v24H0V0z\" fill=\"none\"/>\n",
              "    <path d=\"M18.56 5.44l.94 2.06.94-2.06 2.06-.94-2.06-.94-.94-2.06-.94 2.06-2.06.94zm-11 1L8.5 8.5l.94-2.06 2.06-.94-2.06-.94L8.5 2.5l-.94 2.06-2.06.94zm10 10l.94 2.06.94-2.06 2.06-.94-2.06-.94-.94-2.06-.94 2.06-2.06.94z\"/><path d=\"M17.41 7.96l-1.37-1.37c-.4-.4-.92-.59-1.43-.59-.52 0-1.04.2-1.43.59L10.3 9.45l-7.72 7.72c-.78.78-.78 2.05 0 2.83L4 21.41c.39.39.9.59 1.41.59.51 0 1.02-.2 1.41-.59l7.78-7.78 2.81-2.81c.8-.78.8-2.07 0-2.86zM5.41 20L4 18.59l7.72-7.72 1.47 1.35L5.41 20z\"/>\n",
              "  </svg>\n",
              "      </button>\n",
              "      \n",
              "  <style>\n",
              "    .colab-df-container {\n",
              "      display:flex;\n",
              "      flex-wrap:wrap;\n",
              "      gap: 12px;\n",
              "    }\n",
              "\n",
              "    .colab-df-convert {\n",
              "      background-color: #E8F0FE;\n",
              "      border: none;\n",
              "      border-radius: 50%;\n",
              "      cursor: pointer;\n",
              "      display: none;\n",
              "      fill: #1967D2;\n",
              "      height: 32px;\n",
              "      padding: 0 0 0 0;\n",
              "      width: 32px;\n",
              "    }\n",
              "\n",
              "    .colab-df-convert:hover {\n",
              "      background-color: #E2EBFA;\n",
              "      box-shadow: 0px 1px 2px rgba(60, 64, 67, 0.3), 0px 1px 3px 1px rgba(60, 64, 67, 0.15);\n",
              "      fill: #174EA6;\n",
              "    }\n",
              "\n",
              "    [theme=dark] .colab-df-convert {\n",
              "      background-color: #3B4455;\n",
              "      fill: #D2E3FC;\n",
              "    }\n",
              "\n",
              "    [theme=dark] .colab-df-convert:hover {\n",
              "      background-color: #434B5C;\n",
              "      box-shadow: 0px 1px 3px 1px rgba(0, 0, 0, 0.15);\n",
              "      filter: drop-shadow(0px 1px 2px rgba(0, 0, 0, 0.3));\n",
              "      fill: #FFFFFF;\n",
              "    }\n",
              "  </style>\n",
              "\n",
              "      <script>\n",
              "        const buttonEl =\n",
              "          document.querySelector('#df-ca5259bb-4b75-4f4b-aa53-2c37c5c1420e button.colab-df-convert');\n",
              "        buttonEl.style.display =\n",
              "          google.colab.kernel.accessAllowed ? 'block' : 'none';\n",
              "\n",
              "        async function convertToInteractive(key) {\n",
              "          const element = document.querySelector('#df-ca5259bb-4b75-4f4b-aa53-2c37c5c1420e');\n",
              "          const dataTable =\n",
              "            await google.colab.kernel.invokeFunction('convertToInteractive',\n",
              "                                                     [key], {});\n",
              "          if (!dataTable) return;\n",
              "\n",
              "          const docLinkHtml = 'Like what you see? Visit the ' +\n",
              "            '<a target=\"_blank\" href=https://colab.research.google.com/notebooks/data_table.ipynb>data table notebook</a>'\n",
              "            + ' to learn more about interactive tables.';\n",
              "          element.innerHTML = '';\n",
              "          dataTable['output_type'] = 'display_data';\n",
              "          await google.colab.output.renderOutput(dataTable, element);\n",
              "          const docLink = document.createElement('div');\n",
              "          docLink.innerHTML = docLinkHtml;\n",
              "          element.appendChild(docLink);\n",
              "        }\n",
              "      </script>\n",
              "    </div>\n",
              "  </div>\n",
              "  "
            ]
          },
          "metadata": {},
          "execution_count": 51
        }
      ]
    },
    {
      "cell_type": "code",
      "source": [
        "plot_loss(history)"
      ],
      "metadata": {
        "colab": {
          "base_uri": "https://localhost:8080/",
          "height": 449
        },
        "id": "51NcDvQhQnuW",
        "outputId": "e27762a3-093a-4a52-f1f7-c7f5d2a9ad4a"
      },
      "execution_count": 60,
      "outputs": [
        {
          "output_type": "display_data",
          "data": {
            "text/plain": [
              "<Figure size 640x480 with 1 Axes>"
            ],
            "image/png": "[encoded data removed]"
          },
          "metadata": {}
        }
      ]
    },
    {
      "cell_type": "code",
      "source": [
        "results = model_inverse.evaluate(\n",
        "    X_test,\n",
        "    Y_test, \n",
        "    verbose=0\n",
        ")\n"
      ],
      "metadata": {
        "id": "D_RZn6lrQzrV"
      },
      "execution_count": 55,
      "outputs": []
    },
    {
      "cell_type": "code",
      "source": [
        "print(results)"
      ],
      "metadata": {
        "colab": {
          "base_uri": "https://localhost:8080/"
        },
        "id": "bSGNnlHoRHRp",
        "outputId": "8a10f36c-87e4-4ccc-9467-1eb2e2d34da6"
      },
      "execution_count": 56,
      "outputs": [
        {
          "output_type": "stream",
          "name": "stdout",
          "text": [
            "3.519195318222046\n"
          ]
        }
      ]
    },
    {
      "cell_type": "code",
      "source": [
        "model_inverse.save('model_inverse_2joints_64hl.h5')"
      ],
      "metadata": {
        "id": "A86wNnAkVPHE"
      },
      "execution_count": 64,
      "outputs": []
    },
    {
      "cell_type": "code",
      "source": [
        "loaded_model = keras.models.load_model(\"model_inverse_2joints_64hl.h5\")\n",
        "loaded_model.summary()"
      ],
      "metadata": {
        "colab": {
          "base_uri": "https://localhost:8080/"
        },
        "id": "2x7AMcSDVmTE",
        "outputId": "5f1fd575-e6a9-4abd-927f-11727611377d"
      },
      "execution_count": 70,
      "outputs": [
        {
          "output_type": "stream",
          "name": "stdout",
          "text": [
            "Model: \"sequential_6\"\n",
            "_________________________________________________________________\n",
            " Layer (type)                Output Shape              Param #   \n",
            "=================================================================\n",
            " dense_27 (Dense)            (None, 64)                192       \n",
            "                                                                 \n",
            " dense_28 (Dense)            (None, 64)                4160      \n",
            "                                                                 \n",
            " dense_29 (Dense)            (None, 2)                 130       \n",
            "                                                                 \n",
            "=================================================================\n",
            "Total params: 4,482\n",
            "Trainable params: 4,482\n",
            "Non-trainable params: 0\n",
            "_________________________________________________________________\n"
          ]
        }
      ]
    }
  ]
}