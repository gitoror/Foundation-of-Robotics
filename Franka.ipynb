{
  "nbformat": 4,
  "nbformat_minor": 0,
  "metadata": {
    "colab": {
      "provenance": []
    },
    "kernelspec": {
      "name": "python3",
      "display_name": "Python 3"
    },
    "language_info": {
      "name": "python"
    }
  },
  "cells": [
    {
      "cell_type": "code",
      "execution_count": 1,
      "metadata": {
        "id": "6IBALDjI2Xie"
      },
      "outputs": [],
      "source": [
        "from sklearn.model_selection import train_test_split\n",
        "from tensorflow import keras\n",
        "from tensorflow.keras.layers import Dense\n",
        "from tensorflow.keras.layers import InputLayer\n",
        "from tensorflow.keras.models import Model\n",
        "import matplotlib.pyplot as plt\n",
        "import numpy as np\n",
        "import pandas as pd"
      ]
    },
    {
      "cell_type": "code",
      "source": [
        "def plot_loss(history, label = 'loss'):\n",
        "  plt.plot(history.history['loss'], label=label)\n",
        "  # plt.plot(history.history['val_loss'], label='val_loss')\n",
        "  # plt.ylim([0, 10])\n",
        "  plt.xlabel('Epoch')\n",
        "  plt.ylabel('Error [MPG]')\n",
        "  plt.legend()\n",
        "  plt.grid(True)\n"
      ],
      "metadata": {
        "id": "nGps_qZjQsn4"
      },
      "execution_count": 80,
      "outputs": []
    },
    {
      "cell_type": "code",
      "source": [
        "def generate_polynomial_trajectory(p1, p2, grade=6, n_points=100):\n",
        "    x = np.linspace(p1[0], p2[0], n_points)\n",
        "    y = (x - p1[0]) ** grade * (p2[1] - p1[1]) / ((p2[0] - p1[0]) ** grade) + p1[1]\n",
        "    return np.array(list(zip(x, y)))\n",
        "\n",
        "def generate_radical_trajectory(p1, p2, grade=5, n_points=100):\n",
        "    x = np.linspace(p1[0], p2[0], n_points)\n",
        "    y = (x - p1[0]) ** (1/grade) * (p2[1] - p1[1]) / ((p2[0] - p1[0]) ** (1 / grade)) + p1[1]\n",
        "    return np.array(list(zip(x, y)), dtype=np.float32)\n",
        "\n",
        "def generate_linear_trajectory(p1, p2, n_points=100):\n",
        "    x = np.linspace(p1[0], p2[0], n_points)\n",
        "    y = (x - p1[0]) * (p2[1] - p1[1]) / (p2[0] - p1[0]) + p1[1]\n",
        "    return np.array(list(zip(x, y)), dtype=np.float32)"
      ],
      "metadata": {
        "id": "lTtTasl6q9TH"
      },
      "execution_count": 9,
      "outputs": []
    },
    {
      "cell_type": "markdown",
      "source": [
        "## Data Loading"
      ],
      "metadata": {
        "id": "RPHU-Bb8xVR5"
      }
    },
    {
      "cell_type": "code",
      "source": [
        "from google.colab import files\n",
        "\n",
        "uploaded = files.upload()\n",
        "\n",
        "for fn in uploaded.keys():\n",
        "  print('User uploaded file \"{name}\" with length {length} bytes'.format(\n",
        "      name=fn, length=len(uploaded[fn])))"
      ],
      "metadata": {
        "id": "e_ahxIBB348d",
        "colab": {
          "base_uri": "https://localhost:8080/",
          "height": 148
        },
        "outputId": "32d16140-7312-44bb-a01a-d08985417343"
      },
      "execution_count": 2,
      "outputs": [
        {
          "output_type": "display_data",
          "data": {
            "text/plain": [
              "<IPython.core.display.HTML object>"
            ],
            "text/html": [
              "\n",
              "     <input type=\"file\" id=\"files-a27b79c0-773d-44bd-b246-d24dfadc8394\" name=\"files[]\" multiple disabled\n",
              "        style=\"border:none\" />\n",
              "     <output id=\"result-a27b79c0-773d-44bd-b246-d24dfadc8394\">\n",
              "      Upload widget is only available when the cell has been executed in the\n",
              "      current browser session. Please rerun this cell to enable.\n",
              "      </output>\n",
              "      <script>// Copyright 2017 Google LLC\n",
              "//\n",
              "// Licensed under the Apache License, Version 2.0 (the \"License\");\n",
              "// you may not use this file except in compliance with the License.\n",
              "// You may obtain a copy of the License at\n",
              "//\n",
              "//      http://www.apache.org/licenses/LICENSE-2.0\n",
              "//\n",
              "// Unless required by applicable law or agreed to in writing, software\n",
              "// distributed under the License is distributed on an \"AS IS\" BASIS,\n",
              "// WITHOUT WARRANTIES OR CONDITIONS OF ANY KIND, either express or implied.\n",
              "// See the License for the specific language governing permissions and\n",
              "// limitations under the License.\n",
              "\n",
              "/**\n",
              " * @fileoverview Helpers for google.colab Python module.\n",
              " */\n",
              "(function(scope) {\n",
              "function span(text, styleAttributes = {}) {\n",
              "  const element = document.createElement('span');\n",
              "  element.textContent = text;\n",
              "  for (const key of Object.keys(styleAttributes)) {\n",
              "    element.style[key] = styleAttributes[key];\n",
              "  }\n",
              "  return element;\n",
              "}\n",
              "\n",
              "// Max number of bytes which will be uploaded at a time.\n",
              "const MAX_PAYLOAD_SIZE = 100 * 1024;\n",
              "\n",
              "function _uploadFiles(inputId, outputId) {\n",
              "  const steps = uploadFilesStep(inputId, outputId);\n",
              "  const outputElement = document.getElementById(outputId);\n",
              "  // Cache steps on the outputElement to make it available for the next call\n",
              "  // to uploadFilesContinue from Python.\n",
              "  outputElement.steps = steps;\n",
              "\n",
              "  return _uploadFilesContinue(outputId);\n",
              "}\n",
              "\n",
              "// This is roughly an async generator (not supported in the browser yet),\n",
              "// where there are multiple asynchronous steps and the Python side is going\n",
              "// to poll for completion of each step.\n",
              "// This uses a Promise to block the python side on completion of each step,\n",
              "// then passes the result of the previous step as the input to the next step.\n",
              "function _uploadFilesContinue(outputId) {\n",
              "  const outputElement = document.getElementById(outputId);\n",
              "  const steps = outputElement.steps;\n",
              "\n",
              "  const next = steps.next(outputElement.lastPromiseValue);\n",
              "  return Promise.resolve(next.value.promise).then((value) => {\n",
              "    // Cache the last promise value to make it available to the next\n",
              "    // step of the generator.\n",
              "    outputElement.lastPromiseValue = value;\n",
              "    return next.value.response;\n",
              "  });\n",
              "}\n",
              "\n",
              "/**\n",
              " * Generator function which is called between each async step of the upload\n",
              " * process.\n",
              " * @param {string} inputId Element ID of the input file picker element.\n",
              " * @param {string} outputId Element ID of the output display.\n",
              " * @return {!Iterable<!Object>} Iterable of next steps.\n",
              " */\n",
              "function* uploadFilesStep(inputId, outputId) {\n",
              "  const inputElement = document.getElementById(inputId);\n",
              "  inputElement.disabled = false;\n",
              "\n",
              "  const outputElement = document.getElementById(outputId);\n",
              "  outputElement.innerHTML = '';\n",
              "\n",
              "  const pickedPromise = new Promise((resolve) => {\n",
              "    inputElement.addEventListener('change', (e) => {\n",
              "      resolve(e.target.files);\n",
              "    });\n",
              "  });\n",
              "\n",
              "  const cancel = document.createElement('button');\n",
              "  inputElement.parentElement.appendChild(cancel);\n",
              "  cancel.textContent = 'Cancel upload';\n",
              "  const cancelPromise = new Promise((resolve) => {\n",
              "    cancel.onclick = () => {\n",
              "      resolve(null);\n",
              "    };\n",
              "  });\n",
              "\n",
              "  // Wait for the user to pick the files.\n",
              "  const files = yield {\n",
              "    promise: Promise.race([pickedPromise, cancelPromise]),\n",
              "    response: {\n",
              "      action: 'starting',\n",
              "    }\n",
              "  };\n",
              "\n",
              "  cancel.remove();\n",
              "\n",
              "  // Disable the input element since further picks are not allowed.\n",
              "  inputElement.disabled = true;\n",
              "\n",
              "  if (!files) {\n",
              "    return {\n",
              "      response: {\n",
              "        action: 'complete',\n",
              "      }\n",
              "    };\n",
              "  }\n",
              "\n",
              "  for (const file of files) {\n",
              "    const li = document.createElement('li');\n",
              "    li.append(span(file.name, {fontWeight: 'bold'}));\n",
              "    li.append(span(\n",
              "        `(${file.type || 'n/a'}) - ${file.size} bytes, ` +\n",
              "        `last modified: ${\n",
              "            file.lastModifiedDate ? file.lastModifiedDate.toLocaleDateString() :\n",
              "                                    'n/a'} - `));\n",
              "    const percent = span('0% done');\n",
              "    li.appendChild(percent);\n",
              "\n",
              "    outputElement.appendChild(li);\n",
              "\n",
              "    const fileDataPromise = new Promise((resolve) => {\n",
              "      const reader = new FileReader();\n",
              "      reader.onload = (e) => {\n",
              "        resolve(e.target.result);\n",
              "      };\n",
              "      reader.readAsArrayBuffer(file);\n",
              "    });\n",
              "    // Wait for the data to be ready.\n",
              "    let fileData = yield {\n",
              "      promise: fileDataPromise,\n",
              "      response: {\n",
              "        action: 'continue',\n",
              "      }\n",
              "    };\n",
              "\n",
              "    // Use a chunked sending to avoid message size limits. See b/62115660.\n",
              "    let position = 0;\n",
              "    do {\n",
              "      const length = Math.min(fileData.byteLength - position, MAX_PAYLOAD_SIZE);\n",
              "      const chunk = new Uint8Array(fileData, position, length);\n",
              "      position += length;\n",
              "\n",
              "      const base64 = btoa(String.fromCharCode.apply(null, chunk));\n",
              "      yield {\n",
              "        response: {\n",
              "          action: 'append',\n",
              "          file: file.name,\n",
              "          data: base64,\n",
              "        },\n",
              "      };\n",
              "\n",
              "      let percentDone = fileData.byteLength === 0 ?\n",
              "          100 :\n",
              "          Math.round((position / fileData.byteLength) * 100);\n",
              "      percent.textContent = `${percentDone}% done`;\n",
              "\n",
              "    } while (position < fileData.byteLength);\n",
              "  }\n",
              "\n",
              "  // All done.\n",
              "  yield {\n",
              "    response: {\n",
              "      action: 'complete',\n",
              "    }\n",
              "  };\n",
              "}\n",
              "\n",
              "scope.google = scope.google || {};\n",
              "scope.google.colab = scope.google.colab || {};\n",
              "scope.google.colab._files = {\n",
              "  _uploadFiles,\n",
              "  _uploadFilesContinue,\n",
              "};\n",
              "})(self);\n",
              "</script> "
            ]
          },
          "metadata": {}
        },
        {
          "output_type": "stream",
          "name": "stdout",
          "text": [
            "Saving X_TWO_JOINTS.csv to X_TWO_JOINTS.csv\n",
            "Saving Y_TWO_JOINTS.csv to Y_TWO_JOINTS.csv\n",
            "User uploaded file \"X_TWO_JOINTS.csv\" with length 1527798 bytes\n",
            "User uploaded file \"Y_TWO_JOINTS.csv\" with length 516435 bytes\n"
          ]
        }
      ]
    },
    {
      "cell_type": "code",
      "source": [
        "df_X = pd.read_csv('X_TWO_JOINTS.csv', header= None, usecols=[0,2], names=[\"X\",\"Z\"])\n",
        "df_Y = pd.read_csv('Y_TWO_JOINTS.csv', header= None, names=[\"J1\",\"J3\"])\n",
        "df_data = df_X.join(df_Y)\n",
        "print(df_data)"
      ],
      "metadata": {
        "colab": {
          "base_uri": "https://localhost:8080/"
        },
        "id": "IRcQDSmEJepG",
        "outputId": "1302a934-0f0d-45a0-caed-03301acd439a"
      },
      "execution_count": 5,
      "outputs": [
        {
          "output_type": "stream",
          "name": "stdout",
          "text": [
            "             X         Z         J1          J3\n",
            "0     0.182892  1.103669  -2.659524  -16.910634\n",
            "1    -0.018991  0.840641 -78.769963 -115.164880\n",
            "2    -0.786893  0.568495 -91.302315  -18.153684\n",
            "3     0.350853  0.842898 -24.786045  -88.304229\n",
            "4     0.014872  1.059766 -41.132881  -61.260355\n",
            "...        ...       ...        ...         ...\n",
            "9995  0.636020  0.261123  40.104177  -80.381565\n",
            "9996  0.637171  0.307646  35.712157  -80.978438\n",
            "9997  0.210339  1.076435 -12.282699  -37.298402\n",
            "9998 -0.560832  0.924573 -54.132491   -7.120594\n",
            "9999  0.235456  0.049541  40.037619 -137.748416\n",
            "\n",
            "[10000 rows x 4 columns]\n"
          ]
        }
      ]
    },
    {
      "cell_type": "code",
      "source": [
        "train, test = train_test_split(df_data,test_size=0.3)\n",
        "X_train , X_test = train[[\"X\", \"Z\"]], test[[\"X\", \"Z\"]]\n",
        "Y_train , Y_test = train[[\"J1\", \"J3\"]], test[[\"J1\", \"J3\"]]\n",
        "print(Y_train)"
      ],
      "metadata": {
        "colab": {
          "base_uri": "https://localhost:8080/"
        },
        "id": "GZ7Zc13mKsgv",
        "outputId": "61c8a521-0f51-4bf8-d38a-758c97c530e9"
      },
      "execution_count": 60,
      "outputs": [
        {
          "output_type": "stream",
          "name": "stdout",
          "text": [
            "             J1          J3\n",
            "2592 -30.286358 -103.157349\n",
            "243  -25.967539  -19.052528\n",
            "2770  24.713639  -70.477906\n",
            "9683  26.517846   -4.088792\n",
            "1271 -11.615579  -77.233588\n",
            "...         ...         ...\n",
            "5681 -83.564581 -114.615837\n",
            "9338  12.085336 -136.815230\n",
            "5537   7.671329  -69.984368\n",
            "2016 -73.101482  -67.300276\n",
            "4316  24.300095  -57.909496\n",
            "\n",
            "[7000 rows x 2 columns]\n"
          ]
        }
      ]
    },
    {
      "cell_type": "markdown",
      "source": [
        "## Plot Data & Test Trajectories"
      ],
      "metadata": {
        "id": "VYZKYAPZw9CN"
      }
    },
    {
      "cell_type": "markdown",
      "source": [
        "### Trajectory 1"
      ],
      "metadata": {
        "id": "diZSemsxrl8K"
      }
    },
    {
      "cell_type": "code",
      "source": [
        "plt.scatter(df_data['X'], df_data['Z'])\n",
        "p1 , p2 = [0.0,1.0] , [0.6, 0.2]\n",
        "trajectory_1 = generate_linear_trajectory(p1,p2,200)\n",
        "plt.scatter(trajectory_1[:,0], trajectory_1[:,1])"
      ],
      "metadata": {
        "colab": {
          "base_uri": "https://localhost:8080/",
          "height": 447
        },
        "id": "gYK2FfOIZv9X",
        "outputId": "9302f765-1a28-482d-f7de-0980f6a6bc6f"
      },
      "execution_count": 25,
      "outputs": [
        {
          "output_type": "execute_result",
          "data": {
            "text/plain": [
              "<matplotlib.collections.PathCollection at 0x7f6347b2e5f0>"
            ]
          },
          "metadata": {},
          "execution_count": 25
        },
        {
          "output_type": "display_data",
          "data": {
            "text/plain": [
              "<Figure size 640x480 with 1 Axes>"
            ],
            "image/png": "[encoded data removed]"
          },
          "metadata": {}
        }
      ]
    },
    {
      "cell_type": "markdown",
      "source": [
        "### Trajectory 2"
      ],
      "metadata": {
        "id": "q9uSzxQnrqR8"
      }
    },
    {
      "cell_type": "code",
      "source": [
        "plt.scatter(df_data['X'], df_data['Z'])\n",
        "p1 , p2 = [-0.3,1.05] , [0.7, 0.25]\n",
        "trajectory_2 = generate_polynomial_trajectory(p1,p2,8,300)\n",
        "plt.scatter(trajectory_2[:,0], trajectory_2[:,1])"
      ],
      "metadata": {
        "colab": {
          "base_uri": "https://localhost:8080/",
          "height": 447
        },
        "id": "jJ-7k9MxrpgY",
        "outputId": "0276a49d-ce0c-4b4a-8eb2-af9467af63a3"
      },
      "execution_count": 59,
      "outputs": [
        {
          "output_type": "execute_result",
          "data": {
            "text/plain": [
              "<matplotlib.collections.PathCollection at 0x7f6346ac9570>"
            ]
          },
          "metadata": {},
          "execution_count": 59
        },
        {
          "output_type": "display_data",
          "data": {
            "text/plain": [
              "<Figure size 640x480 with 1 Axes>"
            ],
            "image/png": "[encoded data removed]"
          },
          "metadata": {}
        }
      ]
    },
    {
      "cell_type": "markdown",
      "source": [
        "### Trajectory 3"
      ],
      "metadata": {
        "id": "hm7SZFyCsp0_"
      }
    },
    {
      "cell_type": "code",
      "source": [
        "plt.scatter(df_data['X'], df_data['Z'])\n",
        "p1 , p2 = [-0.5,0.9], [0.2, 0.2]\n",
        "trajectory_3 = generate_polynomial_trajectory(p1,p2,8,300)\n",
        "plt.scatter(trajectory_3[:,0], trajectory_3[:,1])"
      ],
      "metadata": {
        "colab": {
          "base_uri": "https://localhost:8080/",
          "height": 447
        },
        "id": "V10ZiLEustZm",
        "outputId": "6d05f71c-0be6-4ae8-a30c-fcba4143530f"
      },
      "execution_count": 50,
      "outputs": [
        {
          "output_type": "execute_result",
          "data": {
            "text/plain": [
              "<matplotlib.collections.PathCollection at 0x7f6346e4c280>"
            ]
          },
          "metadata": {},
          "execution_count": 50
        },
        {
          "output_type": "display_data",
          "data": {
            "text/plain": [
              "<Figure size 640x480 with 1 Axes>"
            ],
            "image/png": "[encoded data removed]"
          },
          "metadata": {}
        }
      ]
    },
    {
      "cell_type": "markdown",
      "source": [
        "## Model Training"
      ],
      "metadata": {
        "id": "ejRbzKQzw1H0"
      }
    },
    {
      "cell_type": "markdown",
      "source": [
        "### Hyperparameters"
      ],
      "metadata": {
        "id": "cYrnVUDeyVSP"
      }
    },
    {
      "cell_type": "code",
      "source": [
        "activation = 'sigmoid'\n",
        "learning_rate = 0.001\n",
        "loss = 'mean_absolute_error'\n",
        "n_hidden_neurons = 64\n",
        "epochs = 100"
      ],
      "metadata": {
        "id": "SuknnHq4O9VO"
      },
      "execution_count": 61,
      "outputs": []
    },
    {
      "cell_type": "markdown",
      "source": [
        "### Model 1"
      ],
      "metadata": {
        "id": "53LqkemlyXvD"
      }
    },
    {
      "cell_type": "code",
      "source": [
        "model_inverse_1 = keras.Sequential([\n",
        "    InputLayer(input_shape=(X_train.shape[1])),\n",
        "    Dense(n_hidden_neurons, activation=activation),\n",
        "    Dense(n_hidden_neurons, activation=activation),\n",
        "    Dense(n_hidden_neurons, activation=activation),\n",
        "    Dense(2)\n",
        "], name=\"model_inverse_1\")\n",
        "\n",
        "model_inverse_1.compile(loss=loss,\n",
        "              optimizer=keras.optimizers.Adam(learning_rate))\n"
      ],
      "metadata": {
        "id": "GVouY7cyNYwq"
      },
      "execution_count": 93,
      "outputs": []
    },
    {
      "cell_type": "code",
      "source": [
        "model_inverse_1.summary()"
      ],
      "metadata": {
        "colab": {
          "base_uri": "https://localhost:8080/"
        },
        "id": "gTpRy2q2MLSe",
        "outputId": "38849f19-a681-475d-df65-af645f4ab112"
      },
      "execution_count": 94,
      "outputs": [
        {
          "output_type": "stream",
          "name": "stdout",
          "text": [
            "Model: \"model_inverse_1\"\n",
            "_________________________________________________________________\n",
            " Layer (type)                Output Shape              Param #   \n",
            "=================================================================\n",
            " dense_16 (Dense)            (None, 64)                192       \n",
            "                                                                 \n",
            " dense_17 (Dense)            (None, 64)                4160      \n",
            "                                                                 \n",
            " dense_18 (Dense)            (None, 64)                4160      \n",
            "                                                                 \n",
            " dense_19 (Dense)            (None, 2)                 130       \n",
            "                                                                 \n",
            "=================================================================\n",
            "Total params: 8,642\n",
            "Trainable params: 8,642\n",
            "Non-trainable params: 0\n",
            "_________________________________________________________________\n"
          ]
        }
      ]
    },
    {
      "cell_type": "markdown",
      "source": [
        "### Model 2"
      ],
      "metadata": {
        "id": "cAHwbFOuyaWP"
      }
    },
    {
      "cell_type": "code",
      "source": [
        "model_inverse_2 = keras.Sequential([\n",
        "    InputLayer(input_shape=(X_train.shape[1])),\n",
        "    Dense(n_hidden_neurons*4, activation=activation),\n",
        "    Dense(n_hidden_neurons*2, activation=activation),\n",
        "    Dense(n_hidden_neurons, activation=activation),\n",
        "    Dense(2)\n",
        "], name=\"model_inverse_2\")\n",
        "\n",
        "model_inverse_2.compile(loss=loss,\n",
        "              optimizer=keras.optimizers.Adam(learning_rate))"
      ],
      "metadata": {
        "id": "maurPLiUxqRr"
      },
      "execution_count": 95,
      "outputs": []
    },
    {
      "cell_type": "code",
      "source": [
        "model_inverse_2.summary()"
      ],
      "metadata": {
        "colab": {
          "base_uri": "https://localhost:8080/"
        },
        "id": "RRlRXYXtyL1I",
        "outputId": "ab209622-b207-433a-c11b-f0c32c9827d6"
      },
      "execution_count": 96,
      "outputs": [
        {
          "output_type": "stream",
          "name": "stdout",
          "text": [
            "Model: \"model_inverse_2\"\n",
            "_________________________________________________________________\n",
            " Layer (type)                Output Shape              Param #   \n",
            "=================================================================\n",
            " dense_20 (Dense)            (None, 256)               768       \n",
            "                                                                 \n",
            " dense_21 (Dense)            (None, 128)               32896     \n",
            "                                                                 \n",
            " dense_22 (Dense)            (None, 64)                8256      \n",
            "                                                                 \n",
            " dense_23 (Dense)            (None, 2)                 130       \n",
            "                                                                 \n",
            "=================================================================\n",
            "Total params: 42,050\n",
            "Trainable params: 42,050\n",
            "Non-trainable params: 0\n",
            "_________________________________________________________________\n"
          ]
        }
      ]
    },
    {
      "cell_type": "markdown",
      "source": [
        "### Model 3"
      ],
      "metadata": {
        "id": "WimLb0RMytqW"
      }
    },
    {
      "cell_type": "code",
      "source": [
        "model_inverse_3 = keras.Sequential([\n",
        "    InputLayer(input_shape=(X_train.shape[1])),\n",
        "    Dense(n_hidden_neurons*4, activation=activation),\n",
        "    Dense(n_hidden_neurons*4, activation=activation),\n",
        "    Dense(n_hidden_neurons*4, activation=activation),\n",
        "    Dense(2)\n",
        "], name=\"model_inverse_3\")\n",
        "\n",
        "model_inverse_3.compile(loss=loss,\n",
        "              optimizer=keras.optimizers.Adam(learning_rate))"
      ],
      "metadata": {
        "id": "Q6sNHqveyBDi"
      },
      "execution_count": 113,
      "outputs": []
    },
    {
      "cell_type": "code",
      "source": [
        "model_inverse_3.summary()"
      ],
      "metadata": {
        "colab": {
          "base_uri": "https://localhost:8080/"
        },
        "id": "n3MqSCAXyOdW",
        "outputId": "7d122738-eff2-4448-9741-910d06cbc71a"
      },
      "execution_count": 114,
      "outputs": [
        {
          "output_type": "stream",
          "name": "stdout",
          "text": [
            "Model: \"model_inverse_3\"\n",
            "_________________________________________________________________\n",
            " Layer (type)                Output Shape              Param #   \n",
            "=================================================================\n",
            " dense_28 (Dense)            (None, 256)               768       \n",
            "                                                                 \n",
            " dense_29 (Dense)            (None, 256)               65792     \n",
            "                                                                 \n",
            " dense_30 (Dense)            (None, 256)               65792     \n",
            "                                                                 \n",
            " dense_31 (Dense)            (None, 2)                 514       \n",
            "                                                                 \n",
            "=================================================================\n",
            "Total params: 132,866\n",
            "Trainable params: 132,866\n",
            "Non-trainable params: 0\n",
            "_________________________________________________________________\n"
          ]
        }
      ]
    },
    {
      "cell_type": "markdown",
      "source": [
        "### Training"
      ],
      "metadata": {
        "id": "hM01Ab5TywJ1"
      }
    },
    {
      "cell_type": "code",
      "source": [
        "history_1 = model_inverse_1.fit(\n",
        "    X_train,\n",
        "    Y_train,\n",
        "    epochs=epochs\n",
        ")"
      ],
      "metadata": {
        "colab": {
          "base_uri": "https://localhost:8080/"
        },
        "id": "HfpuCeVWOo6g",
        "outputId": "97518601-2527-4575-d57f-617a5e3c59ee"
      },
      "execution_count": 99,
      "outputs": [
        {
          "output_type": "stream",
          "name": "stdout",
          "text": [
            "Epoch 1/100\n",
            "219/219 [==============================] - 1s 1ms/step - loss: 62.2091\n",
            "Epoch 2/100\n",
            "219/219 [==============================] - 0s 1ms/step - loss: 57.1517\n",
            "Epoch 3/100\n",
            "219/219 [==============================] - 0s 1ms/step - loss: 53.5515\n",
            "Epoch 4/100\n",
            "219/219 [==============================] - 0s 1ms/step - loss: 50.6865\n",
            "Epoch 5/100\n",
            "219/219 [==============================] - 0s 1ms/step - loss: 48.3278\n",
            "Epoch 6/100\n",
            "219/219 [==============================] - 0s 1ms/step - loss: 46.4600\n",
            "Epoch 7/100\n",
            "219/219 [==============================] - 0s 1ms/step - loss: 44.9430\n",
            "Epoch 8/100\n",
            "219/219 [==============================] - 0s 1ms/step - loss: 43.8149\n",
            "Epoch 9/100\n",
            "219/219 [==============================] - 0s 1ms/step - loss: 42.9497\n",
            "Epoch 10/100\n",
            "219/219 [==============================] - 0s 1ms/step - loss: 42.2969\n",
            "Epoch 11/100\n",
            "219/219 [==============================] - 0s 1ms/step - loss: 41.8448\n",
            "Epoch 12/100\n",
            "219/219 [==============================] - 0s 1ms/step - loss: 41.5447\n",
            "Epoch 13/100\n",
            "219/219 [==============================] - 0s 1ms/step - loss: 41.3459\n",
            "Epoch 14/100\n",
            "219/219 [==============================] - 0s 1ms/step - loss: 41.2201\n",
            "Epoch 15/100\n",
            "219/219 [==============================] - 0s 1ms/step - loss: 41.1396\n",
            "Epoch 16/100\n",
            "219/219 [==============================] - 0s 1ms/step - loss: 41.0976\n",
            "Epoch 17/100\n",
            "219/219 [==============================] - 0s 1ms/step - loss: 41.0732\n",
            "Epoch 18/100\n",
            "219/219 [==============================] - 0s 1ms/step - loss: 41.0603\n",
            "Epoch 19/100\n",
            "219/219 [==============================] - 0s 2ms/step - loss: 41.0516\n",
            "Epoch 20/100\n",
            "219/219 [==============================] - 0s 2ms/step - loss: 41.0487\n",
            "Epoch 21/100\n",
            "219/219 [==============================] - 0s 2ms/step - loss: 41.0471\n",
            "Epoch 22/100\n",
            "219/219 [==============================] - 0s 2ms/step - loss: 41.0472\n",
            "Epoch 23/100\n",
            "219/219 [==============================] - 0s 2ms/step - loss: 41.0480\n",
            "Epoch 24/100\n",
            "219/219 [==============================] - 0s 1ms/step - loss: 41.0467\n",
            "Epoch 25/100\n",
            "219/219 [==============================] - 0s 1ms/step - loss: 41.0461\n",
            "Epoch 26/100\n",
            "219/219 [==============================] - 0s 1ms/step - loss: 41.0460\n",
            "Epoch 27/100\n",
            "219/219 [==============================] - 0s 1ms/step - loss: 41.0465\n",
            "Epoch 28/100\n",
            "219/219 [==============================] - 0s 1ms/step - loss: 41.0459\n",
            "Epoch 29/100\n",
            "219/219 [==============================] - 0s 1ms/step - loss: 41.0469\n",
            "Epoch 30/100\n",
            "219/219 [==============================] - 0s 1ms/step - loss: 39.2547\n",
            "Epoch 31/100\n",
            "219/219 [==============================] - 0s 1ms/step - loss: 34.8951\n",
            "Epoch 32/100\n",
            "219/219 [==============================] - 0s 1ms/step - loss: 32.8777\n",
            "Epoch 33/100\n",
            "219/219 [==============================] - 0s 1ms/step - loss: 31.5152\n",
            "Epoch 34/100\n",
            "219/219 [==============================] - 0s 1ms/step - loss: 30.5270\n",
            "Epoch 35/100\n",
            "219/219 [==============================] - 0s 1ms/step - loss: 29.7375\n",
            "Epoch 36/100\n",
            "219/219 [==============================] - 0s 1ms/step - loss: 29.0965\n",
            "Epoch 37/100\n",
            "219/219 [==============================] - 0s 1ms/step - loss: 28.5878\n",
            "Epoch 38/100\n",
            "219/219 [==============================] - 0s 1ms/step - loss: 28.2087\n",
            "Epoch 39/100\n",
            "219/219 [==============================] - 0s 1ms/step - loss: 27.8990\n",
            "Epoch 40/100\n",
            "219/219 [==============================] - 0s 1ms/step - loss: 27.6543\n",
            "Epoch 41/100\n",
            "219/219 [==============================] - 0s 1ms/step - loss: 27.4801\n",
            "Epoch 42/100\n",
            "219/219 [==============================] - 0s 1ms/step - loss: 27.2771\n",
            "Epoch 43/100\n",
            "219/219 [==============================] - 0s 1ms/step - loss: 27.1363\n",
            "Epoch 44/100\n",
            "219/219 [==============================] - 0s 1ms/step - loss: 27.0313\n",
            "Epoch 45/100\n",
            "219/219 [==============================] - 0s 1ms/step - loss: 26.9156\n",
            "Epoch 46/100\n",
            "219/219 [==============================] - 0s 1ms/step - loss: 26.8210\n",
            "Epoch 47/100\n",
            "219/219 [==============================] - 0s 1ms/step - loss: 26.7303\n",
            "Epoch 48/100\n",
            "219/219 [==============================] - 0s 1ms/step - loss: 26.6453\n",
            "Epoch 49/100\n",
            "219/219 [==============================] - 0s 1ms/step - loss: 26.5720\n",
            "Epoch 50/100\n",
            "219/219 [==============================] - 0s 1ms/step - loss: 26.4957\n",
            "Epoch 51/100\n",
            "219/219 [==============================] - 0s 1ms/step - loss: 26.4051\n",
            "Epoch 52/100\n",
            "219/219 [==============================] - 0s 1ms/step - loss: 26.3237\n",
            "Epoch 53/100\n",
            "219/219 [==============================] - 0s 1ms/step - loss: 26.2313\n",
            "Epoch 54/100\n",
            "219/219 [==============================] - 0s 1ms/step - loss: 25.9447\n",
            "Epoch 55/100\n",
            "219/219 [==============================] - 0s 1ms/step - loss: 25.1397\n",
            "Epoch 56/100\n",
            "219/219 [==============================] - 0s 1ms/step - loss: 22.5369\n",
            "Epoch 57/100\n",
            "219/219 [==============================] - 0s 1ms/step - loss: 18.9107\n",
            "Epoch 58/100\n",
            "219/219 [==============================] - 0s 1ms/step - loss: 17.4824\n",
            "Epoch 59/100\n",
            "219/219 [==============================] - 0s 1ms/step - loss: 16.9772\n",
            "Epoch 60/100\n",
            "219/219 [==============================] - 0s 1ms/step - loss: 16.5028\n",
            "Epoch 61/100\n",
            "219/219 [==============================] - 0s 1ms/step - loss: 16.0842\n",
            "Epoch 62/100\n",
            "219/219 [==============================] - 0s 1ms/step - loss: 15.6748\n",
            "Epoch 63/100\n",
            "219/219 [==============================] - 0s 2ms/step - loss: 15.2739\n",
            "Epoch 64/100\n",
            "219/219 [==============================] - 0s 2ms/step - loss: 14.8242\n",
            "Epoch 65/100\n",
            "219/219 [==============================] - 0s 2ms/step - loss: 14.3126\n",
            "Epoch 66/100\n",
            "219/219 [==============================] - 0s 2ms/step - loss: 13.6007\n",
            "Epoch 67/100\n",
            "219/219 [==============================] - 0s 2ms/step - loss: 12.7259\n",
            "Epoch 68/100\n",
            "219/219 [==============================] - 0s 1ms/step - loss: 11.6271\n",
            "Epoch 69/100\n",
            "219/219 [==============================] - 0s 1ms/step - loss: 10.5164\n",
            "Epoch 70/100\n",
            "219/219 [==============================] - 0s 1ms/step - loss: 9.4864\n",
            "Epoch 71/100\n",
            "219/219 [==============================] - 0s 1ms/step - loss: 8.5883\n",
            "Epoch 72/100\n",
            "219/219 [==============================] - 0s 1ms/step - loss: 7.7744\n",
            "Epoch 73/100\n",
            "219/219 [==============================] - 0s 1ms/step - loss: 7.1542\n",
            "Epoch 74/100\n",
            "219/219 [==============================] - 0s 1ms/step - loss: 6.5853\n",
            "Epoch 75/100\n",
            "219/219 [==============================] - 0s 1ms/step - loss: 6.1513\n",
            "Epoch 76/100\n",
            "219/219 [==============================] - 0s 1ms/step - loss: 5.6785\n",
            "Epoch 77/100\n",
            "219/219 [==============================] - 0s 1ms/step - loss: 5.3590\n",
            "Epoch 78/100\n",
            "219/219 [==============================] - 0s 1ms/step - loss: 5.0387\n",
            "Epoch 79/100\n",
            "219/219 [==============================] - 0s 1ms/step - loss: 4.8251\n",
            "Epoch 80/100\n",
            "219/219 [==============================] - 0s 1ms/step - loss: 4.5545\n",
            "Epoch 81/100\n",
            "219/219 [==============================] - 0s 1ms/step - loss: 4.4138\n",
            "Epoch 82/100\n",
            "219/219 [==============================] - 0s 1ms/step - loss: 4.2492\n",
            "Epoch 83/100\n",
            "219/219 [==============================] - 0s 1ms/step - loss: 4.1118\n",
            "Epoch 84/100\n",
            "219/219 [==============================] - 0s 1ms/step - loss: 3.9820\n",
            "Epoch 85/100\n",
            "219/219 [==============================] - 0s 1ms/step - loss: 3.8878\n",
            "Epoch 86/100\n",
            "219/219 [==============================] - 0s 1ms/step - loss: 3.7720\n",
            "Epoch 87/100\n",
            "219/219 [==============================] - 0s 1ms/step - loss: 3.6534\n",
            "Epoch 88/100\n",
            "219/219 [==============================] - 0s 1ms/step - loss: 3.5354\n",
            "Epoch 89/100\n",
            "219/219 [==============================] - 0s 1ms/step - loss: 3.4500\n",
            "Epoch 90/100\n",
            "219/219 [==============================] - 0s 1ms/step - loss: 3.3660\n",
            "Epoch 91/100\n",
            "219/219 [==============================] - 0s 1ms/step - loss: 3.3052\n",
            "Epoch 92/100\n",
            "219/219 [==============================] - 0s 1ms/step - loss: 3.2223\n",
            "Epoch 93/100\n",
            "219/219 [==============================] - 0s 1ms/step - loss: 3.1633\n",
            "Epoch 94/100\n",
            "219/219 [==============================] - 0s 1ms/step - loss: 3.0888\n",
            "Epoch 95/100\n",
            "219/219 [==============================] - 0s 1ms/step - loss: 3.0574\n",
            "Epoch 96/100\n",
            "219/219 [==============================] - 0s 1ms/step - loss: 2.9706\n",
            "Epoch 97/100\n",
            "219/219 [==============================] - 0s 1ms/step - loss: 2.9216\n",
            "Epoch 98/100\n",
            "219/219 [==============================] - 0s 1ms/step - loss: 2.8809\n",
            "Epoch 99/100\n",
            "219/219 [==============================] - 0s 1ms/step - loss: 2.8033\n",
            "Epoch 100/100\n",
            "219/219 [==============================] - 0s 1ms/step - loss: 2.7448\n"
          ]
        }
      ]
    },
    {
      "cell_type": "code",
      "source": [
        "history_2 = model_inverse_2.fit(\n",
        "    X_train,\n",
        "    Y_train,\n",
        "    epochs=epochs\n",
        ")"
      ],
      "metadata": {
        "colab": {
          "base_uri": "https://localhost:8080/"
        },
        "id": "YoiOQrMTzQTC",
        "outputId": "04194389-717a-4da0-fa75-034b390ec4e0"
      },
      "execution_count": 100,
      "outputs": [
        {
          "output_type": "stream",
          "name": "stdout",
          "text": [
            "Epoch 1/100\n",
            "219/219 [==============================] - 1s 1ms/step - loss: 61.5250\n",
            "Epoch 2/100\n",
            "219/219 [==============================] - 0s 1ms/step - loss: 56.5004\n",
            "Epoch 3/100\n",
            "219/219 [==============================] - 0s 1ms/step - loss: 52.7075\n",
            "Epoch 4/100\n",
            "219/219 [==============================] - 0s 1ms/step - loss: 49.7310\n",
            "Epoch 5/100\n",
            "219/219 [==============================] - 0s 1ms/step - loss: 47.4289\n",
            "Epoch 6/100\n",
            "219/219 [==============================] - 0s 1ms/step - loss: 45.6795\n",
            "Epoch 7/100\n",
            "219/219 [==============================] - 0s 1ms/step - loss: 44.3384\n",
            "Epoch 8/100\n",
            "219/219 [==============================] - 0s 1ms/step - loss: 43.3148\n",
            "Epoch 9/100\n",
            "219/219 [==============================] - 0s 1ms/step - loss: 42.5452\n",
            "Epoch 10/100\n",
            "219/219 [==============================] - 0s 1ms/step - loss: 41.9889\n",
            "Epoch 11/100\n",
            "219/219 [==============================] - 0s 1ms/step - loss: 41.6252\n",
            "Epoch 12/100\n",
            "219/219 [==============================] - 0s 1ms/step - loss: 41.3870\n",
            "Epoch 13/100\n",
            "219/219 [==============================] - 0s 1ms/step - loss: 41.2395\n",
            "Epoch 14/100\n",
            "219/219 [==============================] - 0s 1ms/step - loss: 41.1489\n",
            "Epoch 15/100\n",
            "219/219 [==============================] - 0s 1ms/step - loss: 41.0997\n",
            "Epoch 16/100\n",
            "219/219 [==============================] - 0s 1ms/step - loss: 41.0737\n",
            "Epoch 17/100\n",
            "219/219 [==============================] - 0s 1ms/step - loss: 41.0600\n",
            "Epoch 18/100\n",
            "219/219 [==============================] - 0s 1ms/step - loss: 41.0505\n",
            "Epoch 19/100\n",
            "219/219 [==============================] - 0s 1ms/step - loss: 41.0466\n",
            "Epoch 20/100\n",
            "219/219 [==============================] - 0s 1ms/step - loss: 41.0468\n",
            "Epoch 21/100\n",
            "219/219 [==============================] - 0s 1ms/step - loss: 41.0463\n",
            "Epoch 22/100\n",
            "219/219 [==============================] - 0s 1ms/step - loss: 41.0463\n",
            "Epoch 23/100\n",
            "219/219 [==============================] - 0s 1ms/step - loss: 41.0477\n",
            "Epoch 24/100\n",
            "219/219 [==============================] - 0s 2ms/step - loss: 41.0459\n",
            "Epoch 25/100\n",
            "219/219 [==============================] - 0s 2ms/step - loss: 41.0464\n",
            "Epoch 26/100\n",
            "219/219 [==============================] - 0s 2ms/step - loss: 41.0465\n",
            "Epoch 27/100\n",
            "219/219 [==============================] - 0s 2ms/step - loss: 41.0461\n",
            "Epoch 28/100\n",
            "219/219 [==============================] - 0s 2ms/step - loss: 41.0459\n",
            "Epoch 29/100\n",
            "219/219 [==============================] - 0s 1ms/step - loss: 41.0467\n",
            "Epoch 30/100\n",
            "219/219 [==============================] - 0s 1ms/step - loss: 41.0471\n",
            "Epoch 31/100\n",
            "219/219 [==============================] - 0s 1ms/step - loss: 41.0478\n",
            "Epoch 32/100\n",
            "219/219 [==============================] - 0s 1ms/step - loss: 41.0458\n",
            "Epoch 33/100\n",
            "219/219 [==============================] - 0s 1ms/step - loss: 41.0467\n",
            "Epoch 34/100\n",
            "219/219 [==============================] - 0s 1ms/step - loss: 41.0468\n",
            "Epoch 35/100\n",
            "219/219 [==============================] - 0s 1ms/step - loss: 41.0464\n",
            "Epoch 36/100\n",
            "219/219 [==============================] - 0s 1ms/step - loss: 41.0461\n",
            "Epoch 37/100\n",
            "219/219 [==============================] - 0s 1ms/step - loss: 41.0460\n",
            "Epoch 38/100\n",
            "219/219 [==============================] - 0s 1ms/step - loss: 41.0479\n",
            "Epoch 39/100\n",
            "219/219 [==============================] - 0s 1ms/step - loss: 41.0469\n",
            "Epoch 40/100\n",
            "219/219 [==============================] - 0s 1ms/step - loss: 41.0455\n",
            "Epoch 41/100\n",
            "219/219 [==============================] - 0s 1ms/step - loss: 37.8805\n",
            "Epoch 42/100\n",
            "219/219 [==============================] - 0s 1ms/step - loss: 34.5335\n",
            "Epoch 43/100\n",
            "219/219 [==============================] - 0s 1ms/step - loss: 32.7970\n",
            "Epoch 44/100\n",
            "219/219 [==============================] - 0s 1ms/step - loss: 31.5529\n",
            "Epoch 45/100\n",
            "219/219 [==============================] - 0s 1ms/step - loss: 30.6423\n",
            "Epoch 46/100\n",
            "219/219 [==============================] - 0s 1ms/step - loss: 29.9720\n",
            "Epoch 47/100\n",
            "219/219 [==============================] - 0s 1ms/step - loss: 29.4032\n",
            "Epoch 48/100\n",
            "219/219 [==============================] - 0s 1ms/step - loss: 28.9665\n",
            "Epoch 49/100\n",
            "219/219 [==============================] - 0s 1ms/step - loss: 28.5627\n",
            "Epoch 50/100\n",
            "219/219 [==============================] - 0s 1ms/step - loss: 28.2119\n",
            "Epoch 51/100\n",
            "219/219 [==============================] - 0s 1ms/step - loss: 27.8639\n",
            "Epoch 52/100\n",
            "219/219 [==============================] - 0s 1ms/step - loss: 25.8975\n",
            "Epoch 53/100\n",
            "219/219 [==============================] - 0s 1ms/step - loss: 21.3726\n",
            "Epoch 54/100\n",
            "219/219 [==============================] - 0s 1ms/step - loss: 18.9052\n",
            "Epoch 55/100\n",
            "219/219 [==============================] - 0s 2ms/step - loss: 16.4704\n",
            "Epoch 56/100\n",
            "219/219 [==============================] - 0s 1ms/step - loss: 14.0886\n",
            "Epoch 57/100\n",
            "219/219 [==============================] - 0s 1ms/step - loss: 11.6435\n",
            "Epoch 58/100\n",
            "219/219 [==============================] - 0s 1ms/step - loss: 10.1140\n",
            "Epoch 59/100\n",
            "219/219 [==============================] - 0s 1ms/step - loss: 8.8875\n",
            "Epoch 60/100\n",
            "219/219 [==============================] - 0s 1ms/step - loss: 8.1813\n",
            "Epoch 61/100\n",
            "219/219 [==============================] - 0s 2ms/step - loss: 7.4257\n",
            "Epoch 62/100\n",
            "219/219 [==============================] - 0s 2ms/step - loss: 7.0661\n",
            "Epoch 63/100\n",
            "219/219 [==============================] - 0s 2ms/step - loss: 6.4245\n",
            "Epoch 64/100\n",
            "219/219 [==============================] - 0s 2ms/step - loss: 5.8885\n",
            "Epoch 65/100\n",
            "219/219 [==============================] - 0s 2ms/step - loss: 5.4734\n",
            "Epoch 66/100\n",
            "219/219 [==============================] - 0s 2ms/step - loss: 5.1420\n",
            "Epoch 67/100\n",
            "219/219 [==============================] - 0s 1ms/step - loss: 4.7551\n",
            "Epoch 68/100\n",
            "219/219 [==============================] - 0s 2ms/step - loss: 4.5311\n",
            "Epoch 69/100\n",
            "219/219 [==============================] - 0s 1ms/step - loss: 4.2867\n",
            "Epoch 70/100\n",
            "219/219 [==============================] - 0s 1ms/step - loss: 4.0065\n",
            "Epoch 71/100\n",
            "219/219 [==============================] - 0s 2ms/step - loss: 3.7959\n",
            "Epoch 72/100\n",
            "219/219 [==============================] - 0s 1ms/step - loss: 3.7076\n",
            "Epoch 73/100\n",
            "219/219 [==============================] - 0s 1ms/step - loss: 3.4584\n",
            "Epoch 74/100\n",
            "219/219 [==============================] - 0s 1ms/step - loss: 3.4237\n",
            "Epoch 75/100\n",
            "219/219 [==============================] - 0s 1ms/step - loss: 3.2299\n",
            "Epoch 76/100\n",
            "219/219 [==============================] - 0s 1ms/step - loss: 3.1327\n",
            "Epoch 77/100\n",
            "219/219 [==============================] - 0s 1ms/step - loss: 3.0624\n",
            "Epoch 78/100\n",
            "219/219 [==============================] - 0s 1ms/step - loss: 2.9842\n",
            "Epoch 79/100\n",
            "219/219 [==============================] - 0s 1ms/step - loss: 2.8926\n",
            "Epoch 80/100\n",
            "219/219 [==============================] - 0s 1ms/step - loss: 2.7016\n",
            "Epoch 81/100\n",
            "219/219 [==============================] - 0s 1ms/step - loss: 2.7493\n",
            "Epoch 82/100\n",
            "219/219 [==============================] - 0s 1ms/step - loss: 2.6653\n",
            "Epoch 83/100\n",
            "219/219 [==============================] - 0s 1ms/step - loss: 2.6139\n",
            "Epoch 84/100\n",
            "219/219 [==============================] - 0s 1ms/step - loss: 2.5186\n",
            "Epoch 85/100\n",
            "219/219 [==============================] - 0s 1ms/step - loss: 2.4690\n",
            "Epoch 86/100\n",
            "219/219 [==============================] - 0s 1ms/step - loss: 2.4082\n",
            "Epoch 87/100\n",
            "219/219 [==============================] - 0s 1ms/step - loss: 2.3246\n",
            "Epoch 88/100\n",
            "219/219 [==============================] - 0s 1ms/step - loss: 2.3157\n",
            "Epoch 89/100\n",
            "219/219 [==============================] - 0s 1ms/step - loss: 2.3220\n",
            "Epoch 90/100\n",
            "219/219 [==============================] - 0s 1ms/step - loss: 2.2773\n",
            "Epoch 91/100\n",
            "219/219 [==============================] - 0s 1ms/step - loss: 2.2645\n",
            "Epoch 92/100\n",
            "219/219 [==============================] - 0s 1ms/step - loss: 2.1967\n",
            "Epoch 93/100\n",
            "219/219 [==============================] - 0s 1ms/step - loss: 2.1831\n",
            "Epoch 94/100\n",
            "219/219 [==============================] - 0s 1ms/step - loss: 2.1224\n",
            "Epoch 95/100\n",
            "219/219 [==============================] - 0s 1ms/step - loss: 2.1711\n",
            "Epoch 96/100\n",
            "219/219 [==============================] - 0s 1ms/step - loss: 2.0266\n",
            "Epoch 97/100\n",
            "219/219 [==============================] - 0s 1ms/step - loss: 1.9743\n",
            "Epoch 98/100\n",
            "219/219 [==============================] - 0s 2ms/step - loss: 2.0595\n",
            "Epoch 99/100\n",
            "219/219 [==============================] - 0s 2ms/step - loss: 2.0854\n",
            "Epoch 100/100\n",
            "219/219 [==============================] - 0s 2ms/step - loss: 1.9219\n"
          ]
        }
      ]
    },
    {
      "cell_type": "code",
      "source": [
        "history_3 = model_inverse_3.fit(\n",
        "    X_train,\n",
        "    Y_train,\n",
        "    epochs=epochs\n",
        ")"
      ],
      "metadata": {
        "colab": {
          "base_uri": "https://localhost:8080/"
        },
        "id": "j_CSp220zS74",
        "outputId": "1443f3a3-c14b-432e-bb4a-e1be4c483bd1"
      },
      "execution_count": 115,
      "outputs": [
        {
          "output_type": "stream",
          "name": "stdout",
          "text": [
            "Epoch 1/100\n",
            "219/219 [==============================] - 1s 3ms/step - loss: 54.6794\n",
            "Epoch 2/100\n",
            "219/219 [==============================] - 1s 3ms/step - loss: 45.7073\n",
            "Epoch 3/100\n",
            "219/219 [==============================] - 1s 3ms/step - loss: 42.3436\n",
            "Epoch 4/100\n",
            "219/219 [==============================] - 1s 3ms/step - loss: 41.3159\n",
            "Epoch 5/100\n",
            "219/219 [==============================] - 1s 3ms/step - loss: 41.0942\n",
            "Epoch 6/100\n",
            "219/219 [==============================] - 1s 4ms/step - loss: 41.0571\n",
            "Epoch 7/100\n",
            "219/219 [==============================] - 1s 4ms/step - loss: 41.0509\n",
            "Epoch 8/100\n",
            "219/219 [==============================] - 1s 3ms/step - loss: 41.0535\n",
            "Epoch 9/100\n",
            "219/219 [==============================] - 1s 3ms/step - loss: 41.0517\n",
            "Epoch 10/100\n",
            "219/219 [==============================] - 1s 3ms/step - loss: 41.0537\n",
            "Epoch 11/100\n",
            "219/219 [==============================] - 1s 3ms/step - loss: 41.0524\n",
            "Epoch 12/100\n",
            "219/219 [==============================] - 1s 3ms/step - loss: 41.0512\n",
            "Epoch 13/100\n",
            "219/219 [==============================] - 1s 3ms/step - loss: 41.0548\n",
            "Epoch 14/100\n",
            "219/219 [==============================] - 1s 3ms/step - loss: 41.0565\n",
            "Epoch 15/100\n",
            "219/219 [==============================] - 1s 3ms/step - loss: 41.0532\n",
            "Epoch 16/100\n",
            "219/219 [==============================] - 1s 4ms/step - loss: 41.0529\n",
            "Epoch 17/100\n",
            "219/219 [==============================] - 1s 4ms/step - loss: 39.6635\n",
            "Epoch 18/100\n",
            "219/219 [==============================] - 1s 3ms/step - loss: 31.1617\n",
            "Epoch 19/100\n",
            "219/219 [==============================] - 1s 3ms/step - loss: 28.1805\n",
            "Epoch 20/100\n",
            "219/219 [==============================] - 1s 3ms/step - loss: 27.1679\n",
            "Epoch 21/100\n",
            "219/219 [==============================] - 1s 2ms/step - loss: 26.6222\n",
            "Epoch 22/100\n",
            "219/219 [==============================] - 1s 3ms/step - loss: 26.3129\n",
            "Epoch 23/100\n",
            "219/219 [==============================] - 1s 3ms/step - loss: 25.9701\n",
            "Epoch 24/100\n",
            "219/219 [==============================] - 1s 3ms/step - loss: 25.6427\n",
            "Epoch 25/100\n",
            "219/219 [==============================] - 1s 2ms/step - loss: 25.1295\n",
            "Epoch 26/100\n",
            "219/219 [==============================] - 1s 3ms/step - loss: 21.1683\n",
            "Epoch 27/100\n",
            "219/219 [==============================] - 1s 3ms/step - loss: 15.4864\n",
            "Epoch 28/100\n",
            "219/219 [==============================] - 1s 2ms/step - loss: 12.5662\n",
            "Epoch 29/100\n",
            "219/219 [==============================] - 1s 3ms/step - loss: 9.8080\n",
            "Epoch 30/100\n",
            "219/219 [==============================] - 1s 2ms/step - loss: 7.8474\n",
            "Epoch 31/100\n",
            "219/219 [==============================] - 1s 3ms/step - loss: 6.4576\n",
            "Epoch 32/100\n",
            "219/219 [==============================] - 1s 3ms/step - loss: 5.4379\n",
            "Epoch 33/100\n",
            "219/219 [==============================] - 1s 3ms/step - loss: 4.8216\n",
            "Epoch 34/100\n",
            "219/219 [==============================] - 1s 3ms/step - loss: 4.1959\n",
            "Epoch 35/100\n",
            "219/219 [==============================] - 1s 4ms/step - loss: 3.7484\n",
            "Epoch 36/100\n",
            "219/219 [==============================] - 1s 4ms/step - loss: 3.4538\n",
            "Epoch 37/100\n",
            "219/219 [==============================] - 1s 3ms/step - loss: 3.1340\n",
            "Epoch 38/100\n",
            "219/219 [==============================] - 1s 3ms/step - loss: 2.9050\n",
            "Epoch 39/100\n",
            "219/219 [==============================] - 1s 3ms/step - loss: 2.9331\n",
            "Epoch 40/100\n",
            "219/219 [==============================] - 1s 3ms/step - loss: 2.6502\n",
            "Epoch 41/100\n",
            "219/219 [==============================] - 1s 3ms/step - loss: 2.5923\n",
            "Epoch 42/100\n",
            "219/219 [==============================] - 1s 2ms/step - loss: 2.6248\n",
            "Epoch 43/100\n",
            "219/219 [==============================] - 1s 3ms/step - loss: 2.4908\n",
            "Epoch 44/100\n",
            "219/219 [==============================] - 1s 3ms/step - loss: 2.3380\n",
            "Epoch 45/100\n",
            "219/219 [==============================] - 1s 3ms/step - loss: 2.2997\n",
            "Epoch 46/100\n",
            "219/219 [==============================] - 1s 3ms/step - loss: 2.1669\n",
            "Epoch 47/100\n",
            "219/219 [==============================] - 1s 3ms/step - loss: 2.3266\n",
            "Epoch 48/100\n",
            "219/219 [==============================] - 1s 3ms/step - loss: 2.1776\n",
            "Epoch 49/100\n",
            "219/219 [==============================] - 1s 3ms/step - loss: 2.1002\n",
            "Epoch 50/100\n",
            "219/219 [==============================] - 1s 3ms/step - loss: 2.0516\n",
            "Epoch 51/100\n",
            "219/219 [==============================] - 1s 3ms/step - loss: 1.9899\n",
            "Epoch 52/100\n",
            "219/219 [==============================] - 1s 3ms/step - loss: 2.0597\n",
            "Epoch 53/100\n",
            "219/219 [==============================] - 1s 3ms/step - loss: 2.2364\n",
            "Epoch 54/100\n",
            "219/219 [==============================] - 1s 3ms/step - loss: 2.0063\n",
            "Epoch 55/100\n",
            "219/219 [==============================] - 1s 4ms/step - loss: 1.8666\n",
            "Epoch 56/100\n",
            "219/219 [==============================] - 1s 4ms/step - loss: 1.9929\n",
            "Epoch 57/100\n",
            "219/219 [==============================] - 1s 3ms/step - loss: 1.9342\n",
            "Epoch 58/100\n",
            "219/219 [==============================] - 1s 3ms/step - loss: 1.8184\n",
            "Epoch 59/100\n",
            "219/219 [==============================] - 1s 3ms/step - loss: 1.8633\n",
            "Epoch 60/100\n",
            "219/219 [==============================] - 1s 2ms/step - loss: 2.2023\n",
            "Epoch 61/100\n",
            "219/219 [==============================] - 1s 3ms/step - loss: 1.7007\n",
            "Epoch 62/100\n",
            "219/219 [==============================] - 1s 3ms/step - loss: 1.7077\n",
            "Epoch 63/100\n",
            "219/219 [==============================] - 1s 3ms/step - loss: 1.8351\n",
            "Epoch 64/100\n",
            "219/219 [==============================] - 1s 3ms/step - loss: 1.7443\n",
            "Epoch 65/100\n",
            "219/219 [==============================] - 1s 3ms/step - loss: 1.8465\n",
            "Epoch 66/100\n",
            "219/219 [==============================] - 1s 3ms/step - loss: 1.7629\n",
            "Epoch 67/100\n",
            "219/219 [==============================] - 1s 3ms/step - loss: 1.6660\n",
            "Epoch 68/100\n",
            "219/219 [==============================] - 1s 3ms/step - loss: 1.6552\n",
            "Epoch 69/100\n",
            "219/219 [==============================] - 1s 3ms/step - loss: 1.7349\n",
            "Epoch 70/100\n",
            "219/219 [==============================] - 1s 3ms/step - loss: 1.7064\n",
            "Epoch 71/100\n",
            "219/219 [==============================] - 1s 3ms/step - loss: 1.7931\n",
            "Epoch 72/100\n",
            "219/219 [==============================] - 1s 3ms/step - loss: 1.7275\n",
            "Epoch 73/100\n",
            "219/219 [==============================] - 1s 3ms/step - loss: 1.6985\n",
            "Epoch 74/100\n",
            "219/219 [==============================] - 1s 3ms/step - loss: 1.7552\n",
            "Epoch 75/100\n",
            "219/219 [==============================] - 1s 4ms/step - loss: 1.6583\n",
            "Epoch 76/100\n",
            "219/219 [==============================] - 1s 4ms/step - loss: 1.6100\n",
            "Epoch 77/100\n",
            "219/219 [==============================] - 1s 3ms/step - loss: 1.6141\n",
            "Epoch 78/100\n",
            "219/219 [==============================] - 1s 3ms/step - loss: 1.6545\n",
            "Epoch 79/100\n",
            "219/219 [==============================] - 1s 3ms/step - loss: 1.6710\n",
            "Epoch 80/100\n",
            "219/219 [==============================] - 1s 3ms/step - loss: 1.6732\n",
            "Epoch 81/100\n",
            "219/219 [==============================] - 1s 3ms/step - loss: 1.5717\n",
            "Epoch 82/100\n",
            "219/219 [==============================] - 1s 2ms/step - loss: 1.6472\n",
            "Epoch 83/100\n",
            "219/219 [==============================] - 1s 3ms/step - loss: 1.5260\n",
            "Epoch 84/100\n",
            "219/219 [==============================] - 1s 3ms/step - loss: 1.6020\n",
            "Epoch 85/100\n",
            "219/219 [==============================] - 1s 3ms/step - loss: 1.5346\n",
            "Epoch 86/100\n",
            "219/219 [==============================] - 1s 3ms/step - loss: 1.5223\n",
            "Epoch 87/100\n",
            "219/219 [==============================] - 1s 3ms/step - loss: 1.6076\n",
            "Epoch 88/100\n",
            "219/219 [==============================] - 1s 3ms/step - loss: 1.5711\n",
            "Epoch 89/100\n",
            "219/219 [==============================] - 1s 3ms/step - loss: 1.5882\n",
            "Epoch 90/100\n",
            "219/219 [==============================] - 1s 3ms/step - loss: 1.4988\n",
            "Epoch 91/100\n",
            "219/219 [==============================] - 1s 2ms/step - loss: 1.5071\n",
            "Epoch 92/100\n",
            "219/219 [==============================] - 1s 3ms/step - loss: 1.5576\n",
            "Epoch 93/100\n",
            "219/219 [==============================] - 1s 3ms/step - loss: 1.5928\n",
            "Epoch 94/100\n",
            "219/219 [==============================] - 1s 3ms/step - loss: 1.5148\n",
            "Epoch 95/100\n",
            "219/219 [==============================] - 1s 4ms/step - loss: 1.5615\n",
            "Epoch 96/100\n",
            "219/219 [==============================] - 1s 4ms/step - loss: 1.4803\n",
            "Epoch 97/100\n",
            "219/219 [==============================] - 1s 3ms/step - loss: 1.7062\n",
            "Epoch 98/100\n",
            "219/219 [==============================] - 1s 3ms/step - loss: 1.6122\n",
            "Epoch 99/100\n",
            "219/219 [==============================] - 1s 3ms/step - loss: 1.4485\n",
            "Epoch 100/100\n",
            "219/219 [==============================] - 1s 3ms/step - loss: 1.4563\n"
          ]
        }
      ]
    },
    {
      "cell_type": "code",
      "source": [
        "plot_loss(history_1,\"loss model 1\")"
      ],
      "metadata": {
        "colab": {
          "base_uri": "https://localhost:8080/",
          "height": 449
        },
        "id": "51NcDvQhQnuW",
        "outputId": "ed63e866-100f-428b-e5d9-8d80e68e7d5e"
      },
      "execution_count": 105,
      "outputs": [
        {
          "output_type": "display_data",
          "data": {
            "text/plain": [
              "<Figure size 640x480 with 1 Axes>"
            ],
            "image/png": "[encoded data removed]"
          },
          "metadata": {}
        }
      ]
    },
    {
      "cell_type": "code",
      "source": [
        "plot_loss(history_1,\"loss model 2\")"
      ],
      "metadata": {
        "colab": {
          "base_uri": "https://localhost:8080/",
          "height": 449
        },
        "id": "YLhhILPH2JQi",
        "outputId": "ce868a60-6a1f-42bf-9c0f-fe98b5073aec"
      },
      "execution_count": 104,
      "outputs": [
        {
          "output_type": "display_data",
          "data": {
            "text/plain": [
              "<Figure size 640x480 with 1 Axes>"
            ],
            "image/png": "[encoded data removed]"
          },
          "metadata": {}
        }
      ]
    },
    {
      "cell_type": "code",
      "source": [
        "plot_loss(history_1,\"loss model 3\")"
      ],
      "metadata": {
        "colab": {
          "base_uri": "https://localhost:8080/",
          "height": 449
        },
        "id": "T91d-u1o2Jm4",
        "outputId": "ec87365b-c357-4b39-92f2-428ef6283331"
      },
      "execution_count": 106,
      "outputs": [
        {
          "output_type": "display_data",
          "data": {
            "text/plain": [
              "<Figure size 640x480 with 1 Axes>"
            ],
            "image/png": "[encoded data removed]"
          },
          "metadata": {}
        }
      ]
    },
    {
      "cell_type": "code",
      "source": [
        "results_1 = model_inverse_1.evaluate(\n",
        "    X_test,\n",
        "    Y_test, \n",
        "    verbose=0\n",
        ")\n",
        "results_1"
      ],
      "metadata": {
        "id": "D_RZn6lrQzrV",
        "colab": {
          "base_uri": "https://localhost:8080/"
        },
        "outputId": "f2da96a7-2e49-47be-dcb1-9a484a5135b4"
      },
      "execution_count": 107,
      "outputs": [
        {
          "output_type": "execute_result",
          "data": {
            "text/plain": [
              "2.916064500808716"
            ]
          },
          "metadata": {},
          "execution_count": 107
        }
      ]
    },
    {
      "cell_type": "code",
      "source": [
        "results_2 = model_inverse_2.evaluate(\n",
        "    X_test,\n",
        "    Y_test, \n",
        "    verbose=0\n",
        ")\n",
        "results_2"
      ],
      "metadata": {
        "colab": {
          "base_uri": "https://localhost:8080/"
        },
        "id": "bSGNnlHoRHRp",
        "outputId": "3f350060-04cd-4362-972a-d295c95ec0c1"
      },
      "execution_count": 110,
      "outputs": [
        {
          "output_type": "execute_result",
          "data": {
            "text/plain": [
              "2.0165469646453857"
            ]
          },
          "metadata": {},
          "execution_count": 110
        }
      ]
    },
    {
      "cell_type": "code",
      "source": [
        "results_3 = model_inverse_3.evaluate(\n",
        "    X_test,\n",
        "    Y_test, \n",
        "    verbose=0\n",
        ")\n",
        "results_3"
      ],
      "metadata": {
        "colab": {
          "base_uri": "https://localhost:8080/"
        },
        "id": "KY13inYC0PFZ",
        "outputId": "22c14777-7c53-4657-df2a-9d01bb8dce2c"
      },
      "execution_count": 111,
      "outputs": [
        {
          "output_type": "execute_result",
          "data": {
            "text/plain": [
              "2.7172906398773193"
            ]
          },
          "metadata": {},
          "execution_count": 111
        }
      ]
    },
    {
      "cell_type": "code",
      "source": [
        "model_inverse_1.save('model_inverse_1.h5')\n",
        "model_inverse_1.save('model_inverse_2.h5')\n",
        "model_inverse_1.save('model_inverse_3.h5')"
      ],
      "metadata": {
        "id": "A86wNnAkVPHE"
      },
      "execution_count": 112,
      "outputs": []
    },
    {
      "cell_type": "code",
      "source": [
        "# loaded_model = keras.models.load_model(\"model_inverse_2joints_64hl.h5\")\n",
        "# loaded_model.summary()"
      ],
      "metadata": {
        "colab": {
          "base_uri": "https://localhost:8080/"
        },
        "id": "2x7AMcSDVmTE",
        "outputId": "5f1fd575-e6a9-4abd-927f-11727611377d"
      },
      "execution_count": null,
      "outputs": [
        {
          "output_type": "stream",
          "name": "stdout",
          "text": [
            "Model: \"sequential_6\"\n",
            "_________________________________________________________________\n",
            " Layer (type)                Output Shape              Param #   \n",
            "=================================================================\n",
            " dense_27 (Dense)            (None, 64)                192       \n",
            "                                                                 \n",
            " dense_28 (Dense)            (None, 64)                4160      \n",
            "                                                                 \n",
            " dense_29 (Dense)            (None, 2)                 130       \n",
            "                                                                 \n",
            "=================================================================\n",
            "Total params: 4,482\n",
            "Trainable params: 4,482\n",
            "Non-trainable params: 0\n",
            "_________________________________________________________________\n"
          ]
        }
      ]
    }
  ]
}